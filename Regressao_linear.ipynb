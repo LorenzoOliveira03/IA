{
 "cells": [
  {
   "cell_type": "markdown",
   "id": "b4f0df21-6bb8-4f3a-84a0-5275a18b0659",
   "metadata": {},
   "source": [
    "Implementação da Regressão Linear utilizando o método do gradiente descendente.\n",
    "\n",
    "Para completar esta tarefa, você deve implementar o código que falta para 3 funções abaixo.\n",
    "- Uma função de custo, para calcular o erro entre o valor previsto pelo modelo e o valor objetivo.\n",
    "- Uma função de gradiente, para calcular o valor da derivada da função de custo para os parâmetros w e b.\n",
    "- Uma função de gradiente descendente, para executar o método do gradiente descendente.\n",
    "\n",
    "Também são fornecidos um pequeno dataset de casas visto em aula e valores para testar a execução do gradiente descendente.\n"
   ]
  },
  {
   "cell_type": "markdown",
   "id": "36dd4d13-7c97-4800-a260-6cc0a028726e",
   "metadata": {},
   "source": [
    "Importando a biblioteca numpy"
   ]
  },
  {
   "cell_type": "code",
   "execution_count": 5,
   "id": "80734f5b-7f14-4511-926c-ceb995016ed5",
   "metadata": {},
   "outputs": [],
   "source": [
    "import numpy as np"
   ]
  },
  {
   "cell_type": "markdown",
   "id": "14992f5e-32b2-4399-81f1-02c280775897",
   "metadata": {},
   "source": [
    "Primeira função a ser desenvolvida é a função para computar o custo do erro do modelo no dataset.\n",
    "\n",
    "Lembrando que erro para um exemplo do dataset é dado pela seguinte equação:\n",
    "\n",
    "$$\n",
    "    (\\hat{y} - y)^2\n",
    "$$\n",
    "\n",
    "E o custo total é dado pela seguinte equação:\n",
    "\n",
    "$$\n",
    "1/2m\\sum_{i=1}^m ((\\hat{y_{i}} - y_{i})^2)\n",
    "$$\n",
    "\n",
    "onde\n",
    "$$\n",
    "\\hat{y_{i}} = f_{w,b}(x_{i}) = w*x_{i}+b\n",
    "$$"
   ]
  },
  {
   "cell_type": "code",
   "execution_count": 6,
   "id": "5a96689c-5931-428f-95d2-c3209b5d5de8",
   "metadata": {},
   "outputs": [],
   "source": [
    "def funcao_custo(x,y,w,b):\n",
    "    \"\"\"\n",
    "    Parâmetros:\n",
    "    x (ndarray (m,))  : Dataset, m exemplos com 1 feature\n",
    "    y (ndarray (m,))  : valores objetivo para cada exemplo do dataset\n",
    "    w (escalar)       : parâmetro w do modelo\n",
    "    b (escalar)       : parâmetro b do modelo\n",
    "    \n",
    "    Retorno:\n",
    "    custo_total (escalar): custo total dos parâmetros w e b no dataset X\n",
    "    \"\"\"\n",
    "    custo_total = 0\n",
    "    m = x.shape[0] #m = total de exmplos\n",
    "\n",
    "\n",
    "    for i in range(m):\n",
    "        custo_total += (w*x[i]+b-y[i])**2\n",
    "    \n",
    "    return (1/2 *m) * custo_total"
   ]
  },
  {
   "cell_type": "markdown",
   "id": "82b54635-5633-4976-ab09-4436fb2d2a67",
   "metadata": {},
   "source": [
    "A função gradiente calcula o valor das derivadas da função de custo em relação a **w** e **b**.\n",
    "\n",
    "A derivada da função de custo em relação a **w** é: \n",
    "\n",
    "$$\n",
    "1/m\\sum_{i=1}^m (\\hat{y_{i}} - y_{i})*x_{i}\n",
    "$$\n",
    "\n",
    "A derivada da função de custo em relação a **b** é:\n",
    "\n",
    "$$\n",
    "1/m\\sum_{i=1}^m (\\hat{y_{i}} - y_{i})\n",
    "$$\n"
   ]
  },
  {
   "cell_type": "code",
   "execution_count": 7,
   "id": "4c56eca4-d4d9-40a7-b861-165cdb2e5b3a",
   "metadata": {},
   "outputs": [],
   "source": [
    "\n",
    "def gradiente(x,y,w,b):\n",
    "    \"\"\"\n",
    "    Função para computar o gradiente com parâmetros específicos w e b\n",
    "    Parâmetros:\n",
    "    x (ndarray (m,)) : Dataset, m exemplos com 1 feature\n",
    "    y (ndarray (m,)) : valores objetivo\n",
    "    w (escalar)      : parâmetro w do modelo \n",
    "    b (escalar)      : parâmetro b do modelo\n",
    "\n",
    "    Retorno:\n",
    "    derivada_w (escalar): valor da derivada da função de custo em relação a w\n",
    "    derivada_b (escalar): valor da derivada da função de custo em relação a b\n",
    "    \"\"\"\n",
    "\n",
    "    m = x.shape[0] #m = total de exemplos\n",
    "    derivada_w = 0\n",
    "    derivada_b = 0\n",
    "\n",
    "    #código inicia aqui\n",
    "\n",
    "    def derCustoW(x,y,w,b):\n",
    "        return (1/m)*np.sum((w*x+b-y)*x)\n",
    "    \n",
    "    def derCustoB(x,y,w,b):\n",
    "        return (1/m)*np.sum(w*x+b-y)\n",
    "\n",
    "    #código termina aqui\n",
    "\n",
    "    derivada_w = derCustoW(x,y,w,b)\n",
    "    derivada_b = derCustoB(x,y,w,b)\n",
    "    \n",
    "    return derivada_w, derivada_b"
   ]
  },
  {
   "cell_type": "markdown",
   "id": "465bd0f5-71d0-4b66-bec1-ac47126b345d",
   "metadata": {},
   "source": [
    "A função **gradiente_descendente** minimiza o custo para os parâmetros **w** e **b**.\n",
    "\n",
    "O gradiente descendente funciona como abaixo.\n",
    "\n",
    "Repetir até convergir:\n",
    "\n",
    "{\n",
    "$$w = w - \\alpha * derivada_w$$\n",
    "\n",
    "$$b = b - \\alpha * derivada_b$$\n",
    "}\n",
    "\n",
    "Lembrando que **w** e **b** precisam ser atualizados simultaneamente.\n",
    "\n",
    "Para o nosso caso, teremos um novo parâmetro, chamado de ***épocas***, que define um número máximo de iterações para o método, para evitar que fique tentando convergir infinitamente.\n",
    "\n"
   ]
  },
  {
   "cell_type": "code",
   "execution_count": 8,
   "id": "f0abecd9-fa76-410f-ad29-3671ee5b3e3e",
   "metadata": {},
   "outputs": [],
   "source": [
    "def gradiente_descendente(x,y,w_inicial,b_inicial,learning_rate,epocas):\n",
    "    \"\"\"\n",
    "    Função para encontrar os parâmetros w e b que minimizam o custo de erro do nosso modelo\n",
    "    \n",
    "    Parâmetros:\n",
    "    x (ndarray (m,))         :  Dataset, m exemplos com n features\n",
    "    y (ndarray (m,))         : valores objetivos\n",
    "    w_inicial (escalar)      : parâmetro b inicial para começar o método\n",
    "    b_inicial (escalar)      : parâmetro b inicial para começar o método\n",
    "    learning_rate (escalar)  : taxa de aprendizado do nosso algoritmo (geralmente menor que 0.01)\n",
    "    epocas(escalar)          : numero máximo de iterações para o método do gradiente descente\n",
    "    \n",
    "    Retorno:\n",
    "    w (escalar): melhor valor encontrado para w\n",
    "    b (escalar): melhor valor encontrado para b\n",
    "    \"\"\"\n",
    "    \n",
    "    m = x.shape[0] #m = total de exmplos\n",
    "\n",
    "    w = w_inicial\n",
    "    b = b_inicial\n",
    "\n",
    "    #código inicia aqui\n",
    "\n",
    "\n",
    "    #código encerra aqui\n",
    "\n",
    "    return w,b"
   ]
  },
  {
   "cell_type": "markdown",
   "id": "27e5cb06-f1a1-41dc-94aa-684f760301e3",
   "metadata": {},
   "source": [
    "x é o dataset de casas com 1 feature (tamanho da casa (em m²))\n",
    "\n",
    "y são os valores alvo para o dataset (preço da casa em milhares de reais)"
   ]
  },
  {
   "cell_type": "code",
   "execution_count": 9,
   "id": "413709e0-50ca-4567-8920-4f1003f5d0d0",
   "metadata": {},
   "outputs": [],
   "source": [
    "x=np.array([45,60,100,200,300])\n",
    "y=np.array([200,300,500,1000,1500])"
   ]
  },
  {
   "cell_type": "markdown",
   "id": "6375c1fe-0039-417b-81ce-e70ec395eccc",
   "metadata": {},
   "source": [
    "Você pode começar tentando entender como o array numpy é representado."
   ]
  },
  {
   "cell_type": "code",
   "execution_count": 10,
   "id": "18c87102-0cf8-4c92-b314-89ea6f2a6012",
   "metadata": {},
   "outputs": [
    {
     "data": {
      "text/plain": [
       "(5,)"
      ]
     },
     "execution_count": 10,
     "metadata": {},
     "output_type": "execute_result"
    }
   ],
   "source": [
    "x.shape"
   ]
  },
  {
   "cell_type": "code",
   "execution_count": 11,
   "id": "288aeb17-eee6-4da8-92b7-65c745afc7b2",
   "metadata": {},
   "outputs": [
    {
     "data": {
      "text/plain": [
       "(5,)"
      ]
     },
     "execution_count": 11,
     "metadata": {},
     "output_type": "execute_result"
    }
   ],
   "source": [
    "y.shape"
   ]
  },
  {
   "cell_type": "markdown",
   "id": "356fdf57-58f3-44a0-8a53-e33605219ee1",
   "metadata": {},
   "source": [
    "Abaixo alguns valores iniciais para você poder testar seu código"
   ]
  },
  {
   "cell_type": "code",
   "execution_count": 12,
   "id": "8e89d4ec-60c4-4ccc-929f-35df1ece43f1",
   "metadata": {},
   "outputs": [],
   "source": [
    "w_inicial = 0\n",
    "b_inicial = 0\n",
    "learning_rate = 0.00001\n",
    "epocas = 1000"
   ]
  },
  {
   "cell_type": "markdown",
   "id": "6213bb98-b945-49dc-aa77-6ecb23325103",
   "metadata": {},
   "source": [
    "E agora o cálculo dos valores **w** e **b** com o método do gradiente descendente implementado"
   ]
  },
  {
   "cell_type": "code",
   "execution_count": 13,
   "id": "3d0d0dd5-22ef-48c9-8682-1b02ec3c4a82",
   "metadata": {},
   "outputs": [],
   "source": [
    "w,b = gradiente_descendente(x,y,w_inicial,b_inicial,learning_rate,epocas)\n",
    "\n",
    "custo_modelo = funcao_custo(x,y,w,b)"
   ]
  },
  {
   "cell_type": "markdown",
   "id": "a04072da-26f6-44a6-80d0-3bc70eff58dc",
   "metadata": {},
   "source": [
    "Valor de w"
   ]
  },
  {
   "cell_type": "code",
   "execution_count": 14,
   "id": "2345ed2f-6d74-4999-a8ca-478076ecffde",
   "metadata": {},
   "outputs": [
    {
     "data": {
      "text/plain": [
       "0"
      ]
     },
     "execution_count": 14,
     "metadata": {},
     "output_type": "execute_result"
    }
   ],
   "source": [
    "w"
   ]
  },
  {
   "cell_type": "markdown",
   "id": "82728310-f804-416b-b471-d41d301d4ea0",
   "metadata": {},
   "source": [
    "Valor de b"
   ]
  },
  {
   "cell_type": "code",
   "execution_count": 15,
   "id": "da6de4e2-0bdf-4ffc-99c2-79e6228c864d",
   "metadata": {},
   "outputs": [
    {
     "data": {
      "text/plain": [
       "0"
      ]
     },
     "execution_count": 15,
     "metadata": {},
     "output_type": "execute_result"
    }
   ],
   "source": [
    "b"
   ]
  },
  {
   "cell_type": "markdown",
   "id": "bcd0284e-8ec8-41da-865f-f0b034c3915c",
   "metadata": {},
   "source": [
    "Custo do modelo com o dataset de casas de treinamento"
   ]
  },
  {
   "cell_type": "code",
   "execution_count": 16,
   "id": "a4b846c5-f4c0-48a8-a6ce-0266cfd24920",
   "metadata": {},
   "outputs": [
    {
     "data": {
      "text/plain": [
       "363000.0"
      ]
     },
     "execution_count": 16,
     "metadata": {},
     "output_type": "execute_result"
    }
   ],
   "source": [
    "custo_modelo"
   ]
  },
  {
   "cell_type": "markdown",
   "id": "7e1a9fda-b563-4444-bee4-3ee1a642af5b",
   "metadata": {},
   "source": [
    "Vamos tentar predizer o valor de uma casa de 150 m²"
   ]
  },
  {
   "cell_type": "code",
   "execution_count": 17,
   "id": "35babd25-1d62-4835-9cbb-37e9ad088de2",
   "metadata": {},
   "outputs": [
    {
     "data": {
      "text/plain": [
       "0"
      ]
     },
     "execution_count": 17,
     "metadata": {},
     "output_type": "execute_result"
    }
   ],
   "source": [
    "casa=150\n",
    "valor_nova_casa = w*casa + b\n",
    "\n",
    "valor_nova_casa"
   ]
  },
  {
   "cell_type": "markdown",
   "id": "ecdebafd-6cd7-4008-8c6a-75e7fee7203f",
   "metadata": {},
   "source": [
    "Para mostrar estes resultados em um gráfico, podemos utilizar o pacote pyplot da biblioteca matplotlib"
   ]
  },
  {
   "cell_type": "code",
   "execution_count": 18,
   "id": "555c8e1f-1011-46eb-836d-f257eb9f5713",
   "metadata": {},
   "outputs": [],
   "source": [
    "import matplotlib.pyplot as plt"
   ]
  },
  {
   "cell_type": "markdown",
   "id": "dc2085d4-5798-4b21-86d1-fb63ae10f229",
   "metadata": {},
   "source": [
    "Vamos calcular os valores das casas do dataset para poder plotar"
   ]
  },
  {
   "cell_type": "code",
   "execution_count": 19,
   "id": "4dd6fd45-85db-4dc9-8eb3-ad48d27db46a",
   "metadata": {},
   "outputs": [],
   "source": [
    "y_hats = np.zeros(x.shape[0]) #inicializamos um vetor de tamanho m (total de exmplos)\n",
    "y_hats = x * w + b"
   ]
  },
  {
   "cell_type": "markdown",
   "id": "f29b6bbb-b561-460d-bf52-942c6ef8c06b",
   "metadata": {},
   "source": [
    "Agora definimos o nome dos eixos do gráficos, plotamos uma linha mostrando a relação existente no dataset entre custo das casas vs tamanho, bem como os valores previstos pelo modelo para os exemplos do dataset e o exemplo da nova casa de 150 metros quadrados."
   ]
  },
  {
   "cell_type": "code",
   "execution_count": 20,
   "id": "90768721-84b8-4c91-aae6-81822187587c",
   "metadata": {},
   "outputs": [
    {
     "data": {
      "text/plain": [
       "[<matplotlib.lines.Line2D at 0x1b169179b10>]"
      ]
     },
     "execution_count": 20,
     "metadata": {},
     "output_type": "execute_result"
    },
    {
     "data": {
      "image/png": "[encoded data removed]",
      "text/plain": [
       "<Figure size 640x480 with 1 Axes>"
      ]
     },
     "metadata": {},
     "output_type": "display_data"
    }
   ],
   "source": [
    "plt.ylabel(\"Custo da casa\") #nome do eixo y\n",
    "plt.xlabel(\"Tamanho da casa\") #nome do deixo x\n",
    "plt.plot(x,y) #linha que mostra nosso dataset (custo da casa vs tamanho)\n",
    "plt.plot(x,y_hats,'o') #valores para os exemplos do nosso dataset serão visualizados como círculos\n",
    "plt.plot(casa,valor_nova_casa,'x') #valor previsto da nova casa será visualizado como um \"x\""
   ]
  }
 ],
 "metadata": {
  "kernelspec": {
   "display_name": "Python 3 (ipykernel)",
   "language": "python",
   "name": "python3"
  },
  "language_info": {
   "codemirror_mode": {
    "name": "ipython",
    "version": 3
   },
   "file_extension": ".py",
   "mimetype": "text/x-python",
   "name": "python",
   "nbconvert_exporter": "python",
   "pygments_lexer": "ipython3",
   "version": "3.10.9"
  }
 },
 "nbformat": 4,
 "nbformat_minor": 5
}
