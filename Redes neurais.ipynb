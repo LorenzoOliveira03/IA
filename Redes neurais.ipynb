{
  "cells": [
    {
      "cell_type": "code",
      "execution_count": 1,
      "metadata": {
        "id": "FrMs96t12GF_"
      },
      "outputs": [],
      "source": [
        "import pandas as pd\n",
        "import numpy as np\n",
        "import matplotlib.pyplot as plt\n",
        "import seaborn as sns\n",
        "import pydot\n",
        "\n",
        "from IPython.display import Image\n",
        "\n",
        "from sklearn.model_selection import train_test_split, cross_val_score\n",
        "from sklearn.metrics import mean_squared_error,confusion_matrix, classification_report, roc_auc_score, precision_score"
      ]
    },
    {
      "cell_type": "markdown",
      "metadata": {
        "id": "HcUopKJW2hHh"
      },
      "source": [
        "##Rede neural para Regressão\n",
        "\n",
        "Material baseado no script do prof. Rafael Scopel"
      ]
    },
    {
      "cell_type": "markdown",
      "metadata": {
        "id": "8hmUl1_W24jw"
      },
      "source": [
        "Importando base de dados do dataset California Districts.\n",
        "\n",
        "A variável alvo é a mediana do preço de casas em distritos da California, expresso em milhares de dólares ($100,000).\n",
        "\n",
        "Descrição das features:\n",
        "- MedInc        median income in block group\n",
        "- HouseAge      median house age in block group\n",
        "- AveRooms      average number of rooms per household\n",
        "- AveBedrms     average number of bedrooms per household\n",
        "- Population    block group population\n",
        "- AveOccup      average number of household members\n",
        "- Latitude      block group latitude\n",
        "- Longitude     block group longitude\n"
      ]
    },
    {
      "cell_type": "code",
      "execution_count": 2,
      "metadata": {
        "colab": {
          "base_uri": "https://localhost:8080/",
          "height": 424
        },
        "id": "39oZcV_727yI",
        "outputId": "fdf4db1b-7b28-4e79-fd3b-6db3335d483f"
      },
      "outputs": [
        {
          "data": {
            "text/html": [
              "<div>\n",
              "<style scoped>\n",
              "    .dataframe tbody tr th:only-of-type {\n",
              "        vertical-align: middle;\n",
              "    }\n",
              "\n",
              "    .dataframe tbody tr th {\n",
              "        vertical-align: top;\n",
              "    }\n",
              "\n",
              "    .dataframe thead tr th {\n",
              "        text-align: left;\n",
              "    }\n",
              "</style>\n",
              "<table border=\"1\" class=\"dataframe\">\n",
              "  <thead>\n",
              "    <tr>\n",
              "      <th></th>\n",
              "      <th>MedInc</th>\n",
              "      <th>HouseAge</th>\n",
              "      <th>AveRooms</th>\n",
              "      <th>AveBedrms</th>\n",
              "      <th>Population</th>\n",
              "      <th>AveOccup</th>\n",
              "      <th>Latitude</th>\n",
              "      <th>Longitude</th>\n",
              "      <th>HouseValue</th>\n",
              "    </tr>\n",
              "  </thead>\n",
              "  <tbody>\n",
              "    <tr>\n",
              "      <th>0</th>\n",
              "      <td>8.3252</td>\n",
              "      <td>41.0</td>\n",
              "      <td>6.984127</td>\n",
              "      <td>1.023810</td>\n",
              "      <td>322.0</td>\n",
              "      <td>2.555556</td>\n",
              "      <td>37.88</td>\n",
              "      <td>-122.23</td>\n",
              "      <td>4.526</td>\n",
              "    </tr>\n",
              "    <tr>\n",
              "      <th>1</th>\n",
              "      <td>8.3014</td>\n",
              "      <td>21.0</td>\n",
              "      <td>6.238137</td>\n",
              "      <td>0.971880</td>\n",
              "      <td>2401.0</td>\n",
              "      <td>2.109842</td>\n",
              "      <td>37.86</td>\n",
              "      <td>-122.22</td>\n",
              "      <td>3.585</td>\n",
              "    </tr>\n",
              "    <tr>\n",
              "      <th>2</th>\n",
              "      <td>7.2574</td>\n",
              "      <td>52.0</td>\n",
              "      <td>8.288136</td>\n",
              "      <td>1.073446</td>\n",
              "      <td>496.0</td>\n",
              "      <td>2.802260</td>\n",
              "      <td>37.85</td>\n",
              "      <td>-122.24</td>\n",
              "      <td>3.521</td>\n",
              "    </tr>\n",
              "    <tr>\n",
              "      <th>3</th>\n",
              "      <td>5.6431</td>\n",
              "      <td>52.0</td>\n",
              "      <td>5.817352</td>\n",
              "      <td>1.073059</td>\n",
              "      <td>558.0</td>\n",
              "      <td>2.547945</td>\n",
              "      <td>37.85</td>\n",
              "      <td>-122.25</td>\n",
              "      <td>3.413</td>\n",
              "    </tr>\n",
              "    <tr>\n",
              "      <th>4</th>\n",
              "      <td>3.8462</td>\n",
              "      <td>52.0</td>\n",
              "      <td>6.281853</td>\n",
              "      <td>1.081081</td>\n",
              "      <td>565.0</td>\n",
              "      <td>2.181467</td>\n",
              "      <td>37.85</td>\n",
              "      <td>-122.25</td>\n",
              "      <td>3.422</td>\n",
              "    </tr>\n",
              "    <tr>\n",
              "      <th>...</th>\n",
              "      <td>...</td>\n",
              "      <td>...</td>\n",
              "      <td>...</td>\n",
              "      <td>...</td>\n",
              "      <td>...</td>\n",
              "      <td>...</td>\n",
              "      <td>...</td>\n",
              "      <td>...</td>\n",
              "      <td>...</td>\n",
              "    </tr>\n",
              "    <tr>\n",
              "      <th>20635</th>\n",
              "      <td>1.5603</td>\n",
              "      <td>25.0</td>\n",
              "      <td>5.045455</td>\n",
              "      <td>1.133333</td>\n",
              "      <td>845.0</td>\n",
              "      <td>2.560606</td>\n",
              "      <td>39.48</td>\n",
              "      <td>-121.09</td>\n",
              "      <td>0.781</td>\n",
              "    </tr>\n",
              "    <tr>\n",
              "      <th>20636</th>\n",
              "      <td>2.5568</td>\n",
              "      <td>18.0</td>\n",
              "      <td>6.114035</td>\n",
              "      <td>1.315789</td>\n",
              "      <td>356.0</td>\n",
              "      <td>3.122807</td>\n",
              "      <td>39.49</td>\n",
              "      <td>-121.21</td>\n",
              "      <td>0.771</td>\n",
              "    </tr>\n",
              "    <tr>\n",
              "      <th>20637</th>\n",
              "      <td>1.7000</td>\n",
              "      <td>17.0</td>\n",
              "      <td>5.205543</td>\n",
              "      <td>1.120092</td>\n",
              "      <td>1007.0</td>\n",
              "      <td>2.325635</td>\n",
              "      <td>39.43</td>\n",
              "      <td>-121.22</td>\n",
              "      <td>0.923</td>\n",
              "    </tr>\n",
              "    <tr>\n",
              "      <th>20638</th>\n",
              "      <td>1.8672</td>\n",
              "      <td>18.0</td>\n",
              "      <td>5.329513</td>\n",
              "      <td>1.171920</td>\n",
              "      <td>741.0</td>\n",
              "      <td>2.123209</td>\n",
              "      <td>39.43</td>\n",
              "      <td>-121.32</td>\n",
              "      <td>0.847</td>\n",
              "    </tr>\n",
              "    <tr>\n",
              "      <th>20639</th>\n",
              "      <td>2.3886</td>\n",
              "      <td>16.0</td>\n",
              "      <td>5.254717</td>\n",
              "      <td>1.162264</td>\n",
              "      <td>1387.0</td>\n",
              "      <td>2.616981</td>\n",
              "      <td>39.37</td>\n",
              "      <td>-121.24</td>\n",
              "      <td>0.894</td>\n",
              "    </tr>\n",
              "  </tbody>\n",
              "</table>\n",
              "<p>20640 rows × 9 columns</p>\n",
              "</div>"
            ],
            "text/plain": [
              "       MedInc HouseAge  AveRooms AveBedrms Population  AveOccup Latitude  \\\n",
              "0      8.3252     41.0  6.984127  1.023810      322.0  2.555556    37.88   \n",
              "1      8.3014     21.0  6.238137  0.971880     2401.0  2.109842    37.86   \n",
              "2      7.2574     52.0  8.288136  1.073446      496.0  2.802260    37.85   \n",
              "3      5.6431     52.0  5.817352  1.073059      558.0  2.547945    37.85   \n",
              "4      3.8462     52.0  6.281853  1.081081      565.0  2.181467    37.85   \n",
              "...       ...      ...       ...       ...        ...       ...      ...   \n",
              "20635  1.5603     25.0  5.045455  1.133333      845.0  2.560606    39.48   \n",
              "20636  2.5568     18.0  6.114035  1.315789      356.0  3.122807    39.49   \n",
              "20637  1.7000     17.0  5.205543  1.120092     1007.0  2.325635    39.43   \n",
              "20638  1.8672     18.0  5.329513  1.171920      741.0  2.123209    39.43   \n",
              "20639  2.3886     16.0  5.254717  1.162264     1387.0  2.616981    39.37   \n",
              "\n",
              "      Longitude HouseValue  \n",
              "0       -122.23      4.526  \n",
              "1       -122.22      3.585  \n",
              "2       -122.24      3.521  \n",
              "3       -122.25      3.413  \n",
              "4       -122.25      3.422  \n",
              "...         ...        ...  \n",
              "20635   -121.09      0.781  \n",
              "20636   -121.21      0.771  \n",
              "20637   -121.22      0.923  \n",
              "20638   -121.32      0.847  \n",
              "20639   -121.24      0.894  \n",
              "\n",
              "[20640 rows x 9 columns]"
            ]
          },
          "execution_count": 2,
          "metadata": {},
          "output_type": "execute_result"
        }
      ],
      "source": [
        "from sklearn.preprocessing import StandardScaler\n",
        "from sklearn.datasets import fetch_california_housing\n",
        "\n",
        "temp = fetch_california_housing()\n",
        "\n",
        "features = temp.feature_names\n",
        "target = \"HouseValue\"\n",
        "\n",
        "\n",
        "df_data = pd.DataFrame(temp.data, columns=[features])\n",
        "\n",
        "df_data['HouseValue'] = temp.target\n",
        "\n",
        "df_data"
      ]
    },
    {
      "cell_type": "markdown",
      "metadata": {},
      "source": [
        "Vamos entender melhor nossos dados vendo algumas estatísticas básicas fornecidas pela biblioteca pandas e analisando histogramas."
      ]
    },
    {
      "cell_type": "code",
      "execution_count": 3,
      "metadata": {
        "colab": {
          "base_uri": "https://localhost:8080/",
          "height": 300
        },
        "id": "IRnrGWGQ4UAc",
        "outputId": "ef00898d-eb16-4e5f-a366-c7cf44894995"
      },
      "outputs": [
        {
          "data": {
            "text/html": [
              "<div>\n",
              "<style scoped>\n",
              "    .dataframe tbody tr th:only-of-type {\n",
              "        vertical-align: middle;\n",
              "    }\n",
              "\n",
              "    .dataframe tbody tr th {\n",
              "        vertical-align: top;\n",
              "    }\n",
              "\n",
              "    .dataframe thead tr th {\n",
              "        text-align: left;\n",
              "    }\n",
              "</style>\n",
              "<table border=\"1\" class=\"dataframe\">\n",
              "  <thead>\n",
              "    <tr>\n",
              "      <th></th>\n",
              "      <th>MedInc</th>\n",
              "      <th>HouseAge</th>\n",
              "      <th>AveRooms</th>\n",
              "      <th>AveBedrms</th>\n",
              "      <th>Population</th>\n",
              "      <th>AveOccup</th>\n",
              "      <th>Latitude</th>\n",
              "      <th>Longitude</th>\n",
              "      <th>HouseValue</th>\n",
              "    </tr>\n",
              "  </thead>\n",
              "  <tbody>\n",
              "    <tr>\n",
              "      <th>count</th>\n",
              "      <td>20640.000000</td>\n",
              "      <td>20640.000000</td>\n",
              "      <td>20640.000000</td>\n",
              "      <td>20640.000000</td>\n",
              "      <td>20640.000000</td>\n",
              "      <td>20640.000000</td>\n",
              "      <td>20640.000000</td>\n",
              "      <td>20640.000000</td>\n",
              "      <td>20640.000000</td>\n",
              "    </tr>\n",
              "    <tr>\n",
              "      <th>mean</th>\n",
              "      <td>3.870671</td>\n",
              "      <td>28.639486</td>\n",
              "      <td>5.429000</td>\n",
              "      <td>1.096675</td>\n",
              "      <td>1425.476744</td>\n",
              "      <td>3.070655</td>\n",
              "      <td>35.631861</td>\n",
              "      <td>-119.569704</td>\n",
              "      <td>2.068558</td>\n",
              "    </tr>\n",
              "    <tr>\n",
              "      <th>std</th>\n",
              "      <td>1.899822</td>\n",
              "      <td>12.585558</td>\n",
              "      <td>2.474173</td>\n",
              "      <td>0.473911</td>\n",
              "      <td>1132.462122</td>\n",
              "      <td>10.386050</td>\n",
              "      <td>2.135952</td>\n",
              "      <td>2.003532</td>\n",
              "      <td>1.153956</td>\n",
              "    </tr>\n",
              "    <tr>\n",
              "      <th>min</th>\n",
              "      <td>0.499900</td>\n",
              "      <td>1.000000</td>\n",
              "      <td>0.846154</td>\n",
              "      <td>0.333333</td>\n",
              "      <td>3.000000</td>\n",
              "      <td>0.692308</td>\n",
              "      <td>32.540000</td>\n",
              "      <td>-124.350000</td>\n",
              "      <td>0.149990</td>\n",
              "    </tr>\n",
              "    <tr>\n",
              "      <th>25%</th>\n",
              "      <td>2.563400</td>\n",
              "      <td>18.000000</td>\n",
              "      <td>4.440716</td>\n",
              "      <td>1.006079</td>\n",
              "      <td>787.000000</td>\n",
              "      <td>2.429741</td>\n",
              "      <td>33.930000</td>\n",
              "      <td>-121.800000</td>\n",
              "      <td>1.196000</td>\n",
              "    </tr>\n",
              "    <tr>\n",
              "      <th>50%</th>\n",
              "      <td>3.534800</td>\n",
              "      <td>29.000000</td>\n",
              "      <td>5.229129</td>\n",
              "      <td>1.048780</td>\n",
              "      <td>1166.000000</td>\n",
              "      <td>2.818116</td>\n",
              "      <td>34.260000</td>\n",
              "      <td>-118.490000</td>\n",
              "      <td>1.797000</td>\n",
              "    </tr>\n",
              "    <tr>\n",
              "      <th>75%</th>\n",
              "      <td>4.743250</td>\n",
              "      <td>37.000000</td>\n",
              "      <td>6.052381</td>\n",
              "      <td>1.099526</td>\n",
              "      <td>1725.000000</td>\n",
              "      <td>3.282261</td>\n",
              "      <td>37.710000</td>\n",
              "      <td>-118.010000</td>\n",
              "      <td>2.647250</td>\n",
              "    </tr>\n",
              "    <tr>\n",
              "      <th>max</th>\n",
              "      <td>15.000100</td>\n",
              "      <td>52.000000</td>\n",
              "      <td>141.909091</td>\n",
              "      <td>34.066667</td>\n",
              "      <td>35682.000000</td>\n",
              "      <td>1243.333333</td>\n",
              "      <td>41.950000</td>\n",
              "      <td>-114.310000</td>\n",
              "      <td>5.000010</td>\n",
              "    </tr>\n",
              "  </tbody>\n",
              "</table>\n",
              "</div>"
            ],
            "text/plain": [
              "             MedInc      HouseAge      AveRooms     AveBedrms    Population  \\\n",
              "count  20640.000000  20640.000000  20640.000000  20640.000000  20640.000000   \n",
              "mean       3.870671     28.639486      5.429000      1.096675   1425.476744   \n",
              "std        1.899822     12.585558      2.474173      0.473911   1132.462122   \n",
              "min        0.499900      1.000000      0.846154      0.333333      3.000000   \n",
              "25%        2.563400     18.000000      4.440716      1.006079    787.000000   \n",
              "50%        3.534800     29.000000      5.229129      1.048780   1166.000000   \n",
              "75%        4.743250     37.000000      6.052381      1.099526   1725.000000   \n",
              "max       15.000100     52.000000    141.909091     34.066667  35682.000000   \n",
              "\n",
              "           AveOccup      Latitude     Longitude    HouseValue  \n",
              "count  20640.000000  20640.000000  20640.000000  20640.000000  \n",
              "mean       3.070655     35.631861   -119.569704      2.068558  \n",
              "std       10.386050      2.135952      2.003532      1.153956  \n",
              "min        0.692308     32.540000   -124.350000      0.149990  \n",
              "25%        2.429741     33.930000   -121.800000      1.196000  \n",
              "50%        2.818116     34.260000   -118.490000      1.797000  \n",
              "75%        3.282261     37.710000   -118.010000      2.647250  \n",
              "max     1243.333333     41.950000   -114.310000      5.000010  "
            ]
          },
          "execution_count": 3,
          "metadata": {},
          "output_type": "execute_result"
        }
      ],
      "source": [
        "df_data.describe()"
      ]
    },
    {
      "cell_type": "markdown",
      "metadata": {},
      "source": [
        "Vamos plottar os histogramas dos nossos dados."
      ]
    },
    {
      "cell_type": "code",
      "execution_count": 4,
      "metadata": {
        "colab": {
          "base_uri": "https://localhost:8080/",
          "height": 678
        },
        "id": "oa7kIO-98HtE",
        "outputId": "dc12c747-06c6-4e24-a79e-4ec7be6034fb"
      },
      "outputs": [
        {
          "data": {
            "text/plain": [
              "array([[<Axes: title={'center': \"('MedInc',)\"}>,\n",
              "        <Axes: title={'center': \"('HouseAge',)\"}>,\n",
              "        <Axes: title={'center': \"('AveRooms',)\"}>],\n",
              "       [<Axes: title={'center': \"('AveBedrms',)\"}>,\n",
              "        <Axes: title={'center': \"('Population',)\"}>,\n",
              "        <Axes: title={'center': \"('AveOccup',)\"}>],\n",
              "       [<Axes: title={'center': \"('Latitude',)\"}>,\n",
              "        <Axes: title={'center': \"('Longitude',)\"}>,\n",
              "        <Axes: title={'center': \"('HouseValue',)\"}>]], dtype=object)"
            ]
          },
          "execution_count": 4,
          "metadata": {},
          "output_type": "execute_result"
        },
        {
          "data": {
            "image/png": "[encoded data removed]",
            "text/plain": [
              "<Figure size 800x800 with 9 Axes>"
            ]
          },
          "metadata": {},
          "output_type": "display_data"
        }
      ],
      "source": [
        "df_data.hist(figsize=(8,8),layout=(3,3))"
      ]
    },
    {
      "cell_type": "markdown",
      "metadata": {
        "id": "J2ZkqscCQiu3"
      },
      "source": [
        "Nosso objetivo será usar o MLP (multilayer perceptron, ou simplesmente rede neural) para prever o preço de uma casa (\"HouseValue\") com base nos seus atributos.\n",
        "\n",
        "Vamos separar a amostra de treino e teste em 70% - 30%."
      ]
    },
    {
      "cell_type": "code",
      "execution_count": 5,
      "metadata": {
        "id": "-R_y_gI47U3O"
      },
      "outputs": [],
      "source": [
        "df_train, df_test = train_test_split(df_data,test_size=0.3, random_state=24)\n",
        "\n",
        "X_train_full = df_train[features].values.reshape(-1,np.size(features))\n",
        "X_test = df_test[features].values.reshape(-1,np.size(features))\n",
        "y_train_full = df_train[target].values.reshape(-1,1)\n",
        "y_test = df_test[target].values.reshape(-1,1)"
      ]
    },
    {
      "cell_type": "markdown",
      "metadata": {
        "id": "yjQFH2e5Q0J0"
      },
      "source": [
        "Normalizamos os atributos X."
      ]
    },
    {
      "cell_type": "code",
      "execution_count": 6,
      "metadata": {
        "id": "0yYkYLvq8EWp"
      },
      "outputs": [],
      "source": [
        "scaler = StandardScaler()\n",
        "\n",
        "X_train_full_scaled = scaler.fit(X_train_full).transform(X_train_full)\n",
        "X_test_full_scaled = scaler.fit(X_train_full).transform(X_test)"
      ]
    },
    {
      "cell_type": "code",
      "execution_count": 7,
      "metadata": {
        "colab": {
          "base_uri": "https://localhost:8080/",
          "height": 424
        },
        "id": "BVXT1YIS3P8O",
        "outputId": "bff7f74d-c5f9-4c7e-b682-5931b41a7413"
      },
      "outputs": [
        {
          "data": {
            "text/html": [
              "<div>\n",
              "<style scoped>\n",
              "    .dataframe tbody tr th:only-of-type {\n",
              "        vertical-align: middle;\n",
              "    }\n",
              "\n",
              "    .dataframe tbody tr th {\n",
              "        vertical-align: top;\n",
              "    }\n",
              "\n",
              "    .dataframe thead th {\n",
              "        text-align: right;\n",
              "    }\n",
              "</style>\n",
              "<table border=\"1\" class=\"dataframe\">\n",
              "  <thead>\n",
              "    <tr style=\"text-align: right;\">\n",
              "      <th></th>\n",
              "      <th>0</th>\n",
              "      <th>1</th>\n",
              "      <th>2</th>\n",
              "      <th>3</th>\n",
              "      <th>4</th>\n",
              "      <th>5</th>\n",
              "      <th>6</th>\n",
              "      <th>7</th>\n",
              "    </tr>\n",
              "  </thead>\n",
              "  <tbody>\n",
              "    <tr>\n",
              "      <th>0</th>\n",
              "      <td>3.248316</td>\n",
              "      <td>-0.526757</td>\n",
              "      <td>0.988357</td>\n",
              "      <td>-0.095622</td>\n",
              "      <td>1.209354</td>\n",
              "      <td>-0.010720</td>\n",
              "      <td>-0.873051</td>\n",
              "      <td>0.580126</td>\n",
              "    </tr>\n",
              "    <tr>\n",
              "      <th>1</th>\n",
              "      <td>0.564645</td>\n",
              "      <td>-2.036163</td>\n",
              "      <td>0.738304</td>\n",
              "      <td>0.125251</td>\n",
              "      <td>12.986196</td>\n",
              "      <td>-0.004315</td>\n",
              "      <td>1.314347</td>\n",
              "      <td>-0.937675</td>\n",
              "    </tr>\n",
              "    <tr>\n",
              "      <th>2</th>\n",
              "      <td>0.695141</td>\n",
              "      <td>-1.480066</td>\n",
              "      <td>-0.149263</td>\n",
              "      <td>0.050918</td>\n",
              "      <td>0.154438</td>\n",
              "      <td>-0.073643</td>\n",
              "      <td>0.765151</td>\n",
              "      <td>-1.193146</td>\n",
              "    </tr>\n",
              "    <tr>\n",
              "      <th>3</th>\n",
              "      <td>-0.008033</td>\n",
              "      <td>-0.208987</td>\n",
              "      <td>-0.168477</td>\n",
              "      <td>-0.360858</td>\n",
              "      <td>-0.241701</td>\n",
              "      <td>0.048335</td>\n",
              "      <td>-1.417554</td>\n",
              "      <td>1.261383</td>\n",
              "    </tr>\n",
              "    <tr>\n",
              "      <th>4</th>\n",
              "      <td>1.439554</td>\n",
              "      <td>-1.162296</td>\n",
              "      <td>0.649334</td>\n",
              "      <td>-0.193806</td>\n",
              "      <td>1.461521</td>\n",
              "      <td>-0.003362</td>\n",
              "      <td>-1.196937</td>\n",
              "      <td>1.161198</td>\n",
              "    </tr>\n",
              "    <tr>\n",
              "      <th>...</th>\n",
              "      <td>...</td>\n",
              "      <td>...</td>\n",
              "      <td>...</td>\n",
              "      <td>...</td>\n",
              "      <td>...</td>\n",
              "      <td>...</td>\n",
              "      <td>...</td>\n",
              "      <td>...</td>\n",
              "    </tr>\n",
              "    <tr>\n",
              "      <th>14443</th>\n",
              "      <td>-0.796260</td>\n",
              "      <td>1.856515</td>\n",
              "      <td>-1.186881</td>\n",
              "      <td>-0.612699</td>\n",
              "      <td>-1.006057</td>\n",
              "      <td>0.042216</td>\n",
              "      <td>-0.732232</td>\n",
              "      <td>0.765468</td>\n",
              "    </tr>\n",
              "    <tr>\n",
              "      <th>14444</th>\n",
              "      <td>-1.162216</td>\n",
              "      <td>-0.685642</td>\n",
              "      <td>0.093782</td>\n",
              "      <td>0.146793</td>\n",
              "      <td>-0.341172</td>\n",
              "      <td>0.075946</td>\n",
              "      <td>0.337998</td>\n",
              "      <td>0.074192</td>\n",
              "    </tr>\n",
              "    <tr>\n",
              "      <th>14445</th>\n",
              "      <td>-0.032987</td>\n",
              "      <td>-1.797835</td>\n",
              "      <td>-0.487026</td>\n",
              "      <td>-0.152198</td>\n",
              "      <td>0.103830</td>\n",
              "      <td>-0.085584</td>\n",
              "      <td>-1.272040</td>\n",
              "      <td>1.216300</td>\n",
              "    </tr>\n",
              "    <tr>\n",
              "      <th>14446</th>\n",
              "      <td>0.439560</td>\n",
              "      <td>-0.050102</td>\n",
              "      <td>-0.185051</td>\n",
              "      <td>-0.066825</td>\n",
              "      <td>-0.068063</td>\n",
              "      <td>-0.018454</td>\n",
              "      <td>0.896582</td>\n",
              "      <td>-1.203165</td>\n",
              "    </tr>\n",
              "    <tr>\n",
              "      <th>14447</th>\n",
              "      <td>-0.710787</td>\n",
              "      <td>-0.526757</td>\n",
              "      <td>-0.313569</td>\n",
              "      <td>-0.078912</td>\n",
              "      <td>1.033971</td>\n",
              "      <td>-0.086282</td>\n",
              "      <td>1.394145</td>\n",
              "      <td>-0.912629</td>\n",
              "    </tr>\n",
              "  </tbody>\n",
              "</table>\n",
              "<p>14448 rows × 8 columns</p>\n",
              "</div>"
            ],
            "text/plain": [
              "              0         1         2         3          4         5         6  \\\n",
              "0      3.248316 -0.526757  0.988357 -0.095622   1.209354 -0.010720 -0.873051   \n",
              "1      0.564645 -2.036163  0.738304  0.125251  12.986196 -0.004315  1.314347   \n",
              "2      0.695141 -1.480066 -0.149263  0.050918   0.154438 -0.073643  0.765151   \n",
              "3     -0.008033 -0.208987 -0.168477 -0.360858  -0.241701  0.048335 -1.417554   \n",
              "4      1.439554 -1.162296  0.649334 -0.193806   1.461521 -0.003362 -1.196937   \n",
              "...         ...       ...       ...       ...        ...       ...       ...   \n",
              "14443 -0.796260  1.856515 -1.186881 -0.612699  -1.006057  0.042216 -0.732232   \n",
              "14444 -1.162216 -0.685642  0.093782  0.146793  -0.341172  0.075946  0.337998   \n",
              "14445 -0.032987 -1.797835 -0.487026 -0.152198   0.103830 -0.085584 -1.272040   \n",
              "14446  0.439560 -0.050102 -0.185051 -0.066825  -0.068063 -0.018454  0.896582   \n",
              "14447 -0.710787 -0.526757 -0.313569 -0.078912   1.033971 -0.086282  1.394145   \n",
              "\n",
              "              7  \n",
              "0      0.580126  \n",
              "1     -0.937675  \n",
              "2     -1.193146  \n",
              "3      1.261383  \n",
              "4      1.161198  \n",
              "...         ...  \n",
              "14443  0.765468  \n",
              "14444  0.074192  \n",
              "14445  1.216300  \n",
              "14446 -1.203165  \n",
              "14447 -0.912629  \n",
              "\n",
              "[14448 rows x 8 columns]"
            ]
          },
          "execution_count": 7,
          "metadata": {},
          "output_type": "execute_result"
        }
      ],
      "source": [
        "pd.DataFrame(X_train_full_scaled)"
      ]
    },
    {
      "cell_type": "markdown",
      "metadata": {
        "id": "XPCc2SXCQ6kV"
      },
      "source": [
        "Adicionalmente, vamos criar uma partição de validação para definir o critério de convergência do nosso modelo.\n",
        "\n",
        "A amostra de validação será 10% da amostra de treino total."
      ]
    },
    {
      "cell_type": "code",
      "execution_count": 8,
      "metadata": {
        "id": "tZ1JeOwcH4vw"
      },
      "outputs": [],
      "source": [
        "X_train_scaled, X_valid_scaled, y_train, y_valid = train_test_split(X_train_full_scaled, y_train_full,test_size=0.1, random_state=24)"
      ]
    },
    {
      "cell_type": "markdown",
      "metadata": {
        "id": "iM5VlYPORM_5"
      },
      "source": [
        "Carregar as bibliotecas de Keras e TensorFlow para construção do nosso MLP."
      ]
    },
    {
      "cell_type": "code",
      "execution_count": 15,
      "metadata": {
        "colab": {
          "base_uri": "https://localhost:8080/"
        },
        "id": "qWjy73p_GSfV",
        "outputId": "e8ae6997-866e-4010-d9ec-f1f8112a1257"
      },
      "outputs": [
        {
          "name": "stdout",
          "output_type": "stream",
          "text": [
            "2.13.0\n"
          ]
        }
      ],
      "source": [
        "import tensorflow as tf\n",
        "from tensorflow import keras \n",
        "\n",
        "print(tf.__version__)"
      ]
    },
    {
      "cell_type": "markdown",
      "metadata": {
        "id": "enCoRLCziBrO"
      },
      "source": [
        "Limpando o ambiente Keras e setando as seeds dos geradores aleatórios para replicação dos resultados."
      ]
    },
    {
      "cell_type": "code",
      "execution_count": 16,
      "metadata": {
        "id": "MsHDk2VmiBBJ"
      },
      "outputs": [],
      "source": [
        "keras.backend.clear_session()\n",
        "np.random.seed(42)\n",
        "tf.random.set_seed(42)"
      ]
    },
    {
      "cell_type": "markdown",
      "metadata": {
        "id": "NBoqN6rXRXR3"
      },
      "source": [
        "Vamos construir um MLP com 4 Camadas:\n",
        "\n",
        "1.   Camada de entrada com 8 entradas + 1 viés\n",
        "2.   Camada interna 1 com 50 neurônios, função de ativação RELU\n",
        "3.   Camada interna 2 com 20 neurônios, função de ativação RELU\n",
        "4.   Camada de saída com 1 neurônio e sem função de ativação\n",
        "\n",
        "\n",
        "\n",
        "\n",
        "\n",
        "\n"
      ]
    },
    {
      "cell_type": "code",
      "execution_count": 11,
      "metadata": {},
      "outputs": [
        {
          "data": {
            "text/plain": [
              "8"
            ]
          },
          "execution_count": 11,
          "metadata": {},
          "output_type": "execute_result"
        }
      ],
      "source": [
        "m,n = X_train_scaled.shape\n",
        "n"
      ]
    },
    {
      "cell_type": "code",
      "execution_count": 12,
      "metadata": {
        "id": "zvTgzp-D9UXA"
      },
      "outputs": [],
      "source": [
        "model = keras.models.Sequential([                       #cria um modelo que é uma sequência de camadas\n",
        "        keras.layers.InputLayer(input_shape=n),         #camada de entrada, teremos n = número de features entradas\n",
        "        keras.layers.Dense(50, activation=\"relu\"),      #primeira hidden layer, totalmente conectada com 50 neurônios e função de ativação ReLU.\n",
        "        keras.layers.Dense(20, activation=\"relu\"),      #segunda hidden layer, 20 neurônios.\n",
        "        keras.layers.Dense(1)                           #camada de saíde, 1 neurônio de ativação linear para realizar a regressão.\n",
        "    ])"
      ]
    },
    {
      "cell_type": "markdown",
      "metadata": {
        "id": "XfuFz-6FUQmM"
      },
      "source": [
        "Temos um MLP com 1.491 parâmetros para treino:\n",
        "\n",
        "- 8 features do nosso dataset + bias = 9\n",
        "- 9 * 50 neurônios da primeira camada = 450 parâmetros na primeira camada.\n",
        "- 50 saídas dos neurônios da primeira camada * 20 neurônios na segunda camada + 20 biases = 1020\n",
        "- 20 saídas da segunda camada * 1 neurônio de saída + 1 bias = 21"
      ]
    },
    {
      "cell_type": "code",
      "execution_count": 13,
      "metadata": {
        "colab": {
          "base_uri": "https://localhost:8080/"
        },
        "id": "9c4jqWxII5zc",
        "outputId": "c5ac9675-dc64-4cf3-e276-8aeecbb64967"
      },
      "outputs": [
        {
          "name": "stdout",
          "output_type": "stream",
          "text": [
            "Model: \"sequential\"\n",
            "_________________________________________________________________\n",
            " Layer (type)                Output Shape              Param #   \n",
            "=================================================================\n",
            " dense (Dense)               (None, 50)                450       \n",
            "                                                                 \n",
            " dense_1 (Dense)             (None, 20)                1020      \n",
            "                                                                 \n",
            " dense_2 (Dense)             (None, 1)                 21        \n",
            "                                                                 \n",
            "=================================================================\n",
            "Total params: 1491 (5.82 KB)\n",
            "Trainable params: 1491 (5.82 KB)\n",
            "Non-trainable params: 0 (0.00 Byte)\n",
            "_________________________________________________________________\n"
          ]
        }
      ],
      "source": [
        "model.summary()"
      ]
    },
    {
      "cell_type": "markdown",
      "metadata": {},
      "source": [
        "Vamos gerar um diagrama pra visualizar nossa rede."
      ]
    },
    {
      "cell_type": "code",
      "execution_count": 14,
      "metadata": {
        "colab": {
          "base_uri": "https://localhost:8080/",
          "height": 422
        },
        "id": "ow5RYj0nkg0l",
        "outputId": "3a6464c7-1bf3-407e-e678-8b5075985a16"
      },
      "outputs": [
        {
          "data": {
            "image/png": "[encoded data removed]",
            "text/plain": [
              "<IPython.core.display.Image object>"
            ]
          },
          "execution_count": 14,
          "metadata": {},
          "output_type": "execute_result"
        }
      ],
      "source": [
        "keras.utils.plot_model(model, show_shapes=True)"
      ]
    },
    {
      "cell_type": "markdown",
      "metadata": {
        "id": "CRPBSnrYUXoz"
      },
      "source": [
        "Compilamos o modelo e utilizamos como função de perda o MSE e o algoritmo de backpropagation para estimar os coeficientes."
      ]
    },
    {
      "cell_type": "code",
      "execution_count": 17,
      "metadata": {
        "id": "4awszyGlG694"
      },
      "outputs": [],
      "source": [
        "model.compile(loss=\"mean_squared_error\", optimizer=\"sgd\")"
      ]
    },
    {
      "cell_type": "markdown",
      "metadata": {
        "id": "aNlsGJ36Ug_H"
      },
      "source": [
        "Estimar o modelo com 50 épocas.\n",
        "\n",
        "Para cada época, serão calculados a loss para o conjunto de treinamento e a loss para o conjunto de validação."
      ]
    },
    {
      "cell_type": "code",
      "execution_count": 18,
      "metadata": {
        "colab": {
          "base_uri": "https://localhost:8080/"
        },
        "id": "NMfjJBf_HAiA",
        "outputId": "b793f0e7-af13-439c-dc51-d4598a74decc"
      },
      "outputs": [
        {
          "name": "stdout",
          "output_type": "stream",
          "text": [
            "Epoch 1/50\n",
            "407/407 [==============================] - 1s 2ms/step - loss: 0.7750 - val_loss: 0.4876\n",
            "Epoch 2/50\n",
            "407/407 [==============================] - 1s 1ms/step - loss: 0.4903 - val_loss: 0.4360\n",
            "Epoch 3/50\n",
            "407/407 [==============================] - 1s 1ms/step - loss: 0.4574 - val_loss: 0.7223\n",
            "Epoch 4/50\n",
            "407/407 [==============================] - 1s 1ms/step - loss: 0.4494 - val_loss: 0.4711\n",
            "Epoch 5/50\n",
            "407/407 [==============================] - 1s 1ms/step - loss: 0.4235 - val_loss: 0.3969\n",
            "Epoch 6/50\n",
            "407/407 [==============================] - 1s 1ms/step - loss: 0.4161 - val_loss: 0.3849\n",
            "Epoch 7/50\n",
            "407/407 [==============================] - 0s 1ms/step - loss: 0.3938 - val_loss: 0.3711\n",
            "Epoch 8/50\n",
            "407/407 [==============================] - 0s 1ms/step - loss: 0.3810 - val_loss: 0.3633\n",
            "Epoch 9/50\n",
            "407/407 [==============================] - 0s 1ms/step - loss: 0.3725 - val_loss: 0.3598\n",
            "Epoch 10/50\n",
            "407/407 [==============================] - 0s 1ms/step - loss: 0.3676 - val_loss: 0.3607\n",
            "Epoch 11/50\n",
            "407/407 [==============================] - 0s 999us/step - loss: 0.3885 - val_loss: 0.3665\n",
            "Epoch 12/50\n",
            "407/407 [==============================] - 0s 955us/step - loss: 0.3670 - val_loss: 0.3480\n",
            "Epoch 13/50\n",
            "407/407 [==============================] - 0s 1ms/step - loss: 0.3547 - val_loss: 0.3645\n",
            "Epoch 14/50\n",
            "407/407 [==============================] - 0s 1ms/step - loss: 0.3561 - val_loss: 0.3402\n",
            "Epoch 15/50\n",
            "407/407 [==============================] - 0s 1ms/step - loss: 0.3461 - val_loss: 0.3630\n",
            "Epoch 16/50\n",
            "407/407 [==============================] - 0s 1ms/step - loss: 0.3440 - val_loss: 0.3350\n",
            "Epoch 17/50\n",
            "407/407 [==============================] - 0s 948us/step - loss: 0.3373 - val_loss: 0.3274\n",
            "Epoch 18/50\n",
            "407/407 [==============================] - 0s 1ms/step - loss: 0.3339 - val_loss: 0.3299\n",
            "Epoch 19/50\n",
            "407/407 [==============================] - 0s 955us/step - loss: 0.3288 - val_loss: 0.3250\n",
            "Epoch 20/50\n",
            "407/407 [==============================] - 0s 1ms/step - loss: 0.3259 - val_loss: 0.3340\n",
            "Epoch 21/50\n",
            "407/407 [==============================] - 0s 985us/step - loss: 0.3237 - val_loss: 0.3273\n",
            "Epoch 22/50\n",
            "407/407 [==============================] - 0s 941us/step - loss: 0.3221 - val_loss: 0.3236\n",
            "Epoch 23/50\n",
            "407/407 [==============================] - 0s 897us/step - loss: 0.3203 - val_loss: 0.3235\n",
            "Epoch 24/50\n",
            "407/407 [==============================] - 0s 998us/step - loss: 0.3154 - val_loss: 0.3180\n",
            "Epoch 25/50\n",
            "407/407 [==============================] - 0s 970us/step - loss: 0.3141 - val_loss: 0.3119\n",
            "Epoch 26/50\n",
            "407/407 [==============================] - 0s 1ms/step - loss: 0.3155 - val_loss: 0.3106\n",
            "Epoch 27/50\n",
            "407/407 [==============================] - 0s 1ms/step - loss: 0.3111 - val_loss: 0.3187\n",
            "Epoch 28/50\n",
            "407/407 [==============================] - 0s 966us/step - loss: 0.3067 - val_loss: 0.3042\n",
            "Epoch 29/50\n",
            "407/407 [==============================] - 0s 1ms/step - loss: 0.3069 - val_loss: 0.3089\n",
            "Epoch 30/50\n",
            "407/407 [==============================] - 0s 936us/step - loss: 0.3041 - val_loss: 0.3021\n",
            "Epoch 31/50\n",
            "407/407 [==============================] - 0s 899us/step - loss: 0.3004 - val_loss: 0.3108\n",
            "Epoch 32/50\n",
            "407/407 [==============================] - 0s 917us/step - loss: 0.3013 - val_loss: 0.3134\n",
            "Epoch 33/50\n",
            "407/407 [==============================] - 0s 891us/step - loss: 0.3049 - val_loss: 0.3090\n",
            "Epoch 34/50\n",
            "407/407 [==============================] - 0s 906us/step - loss: 0.2992 - val_loss: 0.3089\n",
            "Epoch 35/50\n",
            "407/407 [==============================] - 0s 901us/step - loss: 0.2955 - val_loss: 0.3459\n",
            "Epoch 36/50\n",
            "407/407 [==============================] - 0s 888us/step - loss: 0.2973 - val_loss: 0.3012\n",
            "Epoch 37/50\n",
            "407/407 [==============================] - 0s 997us/step - loss: 0.2950 - val_loss: 0.3109\n",
            "Epoch 38/50\n",
            "407/407 [==============================] - 0s 1ms/step - loss: 0.2956 - val_loss: 0.3061\n",
            "Epoch 39/50\n",
            "407/407 [==============================] - 0s 1ms/step - loss: 0.2928 - val_loss: 0.3026\n",
            "Epoch 40/50\n",
            "407/407 [==============================] - 0s 951us/step - loss: 0.2941 - val_loss: 0.3156\n",
            "Epoch 41/50\n",
            "407/407 [==============================] - 0s 1ms/step - loss: 0.2913 - val_loss: 0.2946\n",
            "Epoch 42/50\n",
            "407/407 [==============================] - 0s 956us/step - loss: 0.2880 - val_loss: 0.2979\n",
            "Epoch 43/50\n",
            "407/407 [==============================] - 0s 942us/step - loss: 0.2907 - val_loss: 0.2962\n",
            "Epoch 44/50\n",
            "407/407 [==============================] - 0s 884us/step - loss: 0.2881 - val_loss: 0.3098\n",
            "Epoch 45/50\n",
            "407/407 [==============================] - 0s 896us/step - loss: 0.2866 - val_loss: 0.3047\n",
            "Epoch 46/50\n",
            "407/407 [==============================] - 0s 905us/step - loss: 0.2849 - val_loss: 0.2948\n",
            "Epoch 47/50\n",
            "407/407 [==============================] - 0s 1ms/step - loss: 0.2862 - val_loss: 0.2918\n",
            "Epoch 48/50\n",
            "407/407 [==============================] - 0s 948us/step - loss: 0.2852 - val_loss: 0.3076\n",
            "Epoch 49/50\n",
            "407/407 [==============================] - 0s 908us/step - loss: 0.2868 - val_loss: 0.3026\n",
            "Epoch 50/50\n",
            "407/407 [==============================] - 0s 929us/step - loss: 0.2836 - val_loss: 0.2912\n"
          ]
        }
      ],
      "source": [
        "history = model.fit(X_train_scaled, y_train, epochs=50,\n",
        "                    validation_data=(X_valid_scaled, y_valid))               \n"
      ]
    },
    {
      "cell_type": "markdown",
      "metadata": {},
      "source": [
        "Vamos plottar as curvas de aprendizado.\n",
        "\n",
        "Cada curva é o valor de loss em cada época de treinamento.\n",
        "\n",
        "Com isto, podemos investigar se nosso modelo está aprendendo bem tanto para o conjunto de treinamento quanto para o conjunto de validação, ou se está sofrendo de overfitting e tem resultados bons apenas no conjunto de treinamento."
      ]
    },
    {
      "cell_type": "code",
      "execution_count": 19,
      "metadata": {
        "colab": {
          "base_uri": "https://localhost:8080/",
          "height": 320
        },
        "id": "zJbvpOjmJ9Au",
        "outputId": "877dee58-cf64-40bf-c8d3-0441dbe41613"
      },
      "outputs": [
        {
          "data": {
            "image/png": "[encoded data removed]",
            "text/plain": [
              "<Figure size 800x500 with 1 Axes>"
            ]
          },
          "metadata": {},
          "output_type": "display_data"
        }
      ],
      "source": [
        "pd.DataFrame(history.history).plot(figsize=(8, 5)) \n",
        "plt.grid(True)\n",
        "#plt.gca().set_ylim(0, 1) # set the vertical range to [0-1] plt.show()"
      ]
    },
    {
      "cell_type": "markdown",
      "metadata": {},
      "source": [
        "Agora vamos calcular a média do erro quadrado com o modelo já treinado no conjunto de treino e de teste.\n",
        "\n",
        "\n",
        "**CONJUNTO DE TESTE NÃO É CONJUNTO DE VALIDAÇÃO!!**"
      ]
    },
    {
      "cell_type": "code",
      "execution_count": 20,
      "metadata": {
        "colab": {
          "base_uri": "https://localhost:8080/"
        },
        "id": "cGkMVqzWJLvu",
        "outputId": "ed288221-d3e7-4404-e1a5-7de415bffb2a"
      },
      "outputs": [
        {
          "name": "stdout",
          "output_type": "stream",
          "text": [
            "407/407 [==============================] - 0s 1ms/step - loss: 0.2790\n",
            "MSE Treino:  0.27904900908470154\n",
            "194/194 [==============================] - 0s 1ms/step - loss: 0.2982\n",
            "MSE Teste:  0.298238068819046\n"
          ]
        }
      ],
      "source": [
        "print(\"MSE Treino: \", model.evaluate(X_train_scaled, y_train))\n",
        "print(\"MSE Teste: \", model.evaluate(X_test_full_scaled, y_test))"
      ]
    },
    {
      "cell_type": "markdown",
      "metadata": {},
      "source": [
        "Vamos predizer o conjunto de teste para termos uma ideia de como o modelo se comporta.\n",
        "\n",
        "Como normalizamos o conjunto de treinamento, é crucial que as instâncias usadas na predição também sejam normalizadas com a mesma distribuição."
      ]
    },
    {
      "cell_type": "code",
      "execution_count": 21,
      "metadata": {
        "colab": {
          "base_uri": "https://localhost:8080/"
        },
        "id": "_DQJglfdOcjG",
        "outputId": "497fd797-0501-4ee7-a1dd-10565277550c"
      },
      "outputs": [
        {
          "name": "stdout",
          "output_type": "stream",
          "text": [
            "194/194 [==============================] - 0s 829us/step\n"
          ]
        }
      ],
      "source": [
        "preds = model.predict(X_test_full_scaled)"
      ]
    },
    {
      "cell_type": "markdown",
      "metadata": {},
      "source": [
        "Para visualizar as predições, podemos reverter a normalização utilizada nas features de entrada para verificar os valores originais de cada feature (a variável alvo nunca é normalizada!)\n",
        "\n",
        "Vamos colocar as predições do modelo ao lado dos valores já conhecidos de y para o conjunto de teste, para uma comparação visual simples."
      ]
    },
    {
      "cell_type": "code",
      "execution_count": 22,
      "metadata": {},
      "outputs": [
        {
          "data": {
            "text/html": [
              "<div>\n",
              "<style scoped>\n",
              "    .dataframe tbody tr th:only-of-type {\n",
              "        vertical-align: middle;\n",
              "    }\n",
              "\n",
              "    .dataframe tbody tr th {\n",
              "        vertical-align: top;\n",
              "    }\n",
              "\n",
              "    .dataframe thead tr th {\n",
              "        text-align: left;\n",
              "    }\n",
              "</style>\n",
              "<table border=\"1\" class=\"dataframe\">\n",
              "  <thead>\n",
              "    <tr>\n",
              "      <th></th>\n",
              "      <th>MedInc</th>\n",
              "      <th>HouseAge</th>\n",
              "      <th>AveRooms</th>\n",
              "      <th>AveBedrms</th>\n",
              "      <th>Population</th>\n",
              "      <th>AveOccup</th>\n",
              "      <th>Latitude</th>\n",
              "      <th>Longitude</th>\n",
              "      <th>HouseValue predicted</th>\n",
              "      <th>HouseValue known</th>\n",
              "    </tr>\n",
              "  </thead>\n",
              "  <tbody>\n",
              "    <tr>\n",
              "      <th>0</th>\n",
              "      <td>5.7613</td>\n",
              "      <td>23.0</td>\n",
              "      <td>6.296748</td>\n",
              "      <td>1.101626</td>\n",
              "      <td>1486.0</td>\n",
              "      <td>3.020325</td>\n",
              "      <td>34.20</td>\n",
              "      <td>-118.62</td>\n",
              "      <td>2.964334</td>\n",
              "      <td>2.358</td>\n",
              "    </tr>\n",
              "    <tr>\n",
              "      <th>1</th>\n",
              "      <td>4.1500</td>\n",
              "      <td>11.0</td>\n",
              "      <td>5.500933</td>\n",
              "      <td>1.061567</td>\n",
              "      <td>2728.0</td>\n",
              "      <td>2.544776</td>\n",
              "      <td>35.62</td>\n",
              "      <td>-117.66</td>\n",
              "      <td>1.134640</td>\n",
              "      <td>0.857</td>\n",
              "    </tr>\n",
              "    <tr>\n",
              "      <th>2</th>\n",
              "      <td>7.1497</td>\n",
              "      <td>21.0</td>\n",
              "      <td>6.755245</td>\n",
              "      <td>0.930070</td>\n",
              "      <td>860.0</td>\n",
              "      <td>3.006993</td>\n",
              "      <td>33.61</td>\n",
              "      <td>-117.66</td>\n",
              "      <td>2.866007</td>\n",
              "      <td>2.740</td>\n",
              "    </tr>\n",
              "    <tr>\n",
              "      <th>3</th>\n",
              "      <td>3.4312</td>\n",
              "      <td>52.0</td>\n",
              "      <td>6.359909</td>\n",
              "      <td>1.050114</td>\n",
              "      <td>1177.0</td>\n",
              "      <td>2.681093</td>\n",
              "      <td>33.99</td>\n",
              "      <td>-118.03</td>\n",
              "      <td>2.175018</td>\n",
              "      <td>2.438</td>\n",
              "    </tr>\n",
              "    <tr>\n",
              "      <th>4</th>\n",
              "      <td>1.5026</td>\n",
              "      <td>10.0</td>\n",
              "      <td>3.326642</td>\n",
              "      <td>1.076642</td>\n",
              "      <td>2176.0</td>\n",
              "      <td>3.970803</td>\n",
              "      <td>33.75</td>\n",
              "      <td>-117.88</td>\n",
              "      <td>1.449029</td>\n",
              "      <td>1.518</td>\n",
              "    </tr>\n",
              "    <tr>\n",
              "      <th>5</th>\n",
              "      <td>4.9091</td>\n",
              "      <td>9.0</td>\n",
              "      <td>5.243243</td>\n",
              "      <td>1.137214</td>\n",
              "      <td>1591.0</td>\n",
              "      <td>3.307692</td>\n",
              "      <td>37.39</td>\n",
              "      <td>-121.87</td>\n",
              "      <td>2.146353</td>\n",
              "      <td>2.597</td>\n",
              "    </tr>\n",
              "    <tr>\n",
              "      <th>6</th>\n",
              "      <td>3.6797</td>\n",
              "      <td>20.0</td>\n",
              "      <td>5.348018</td>\n",
              "      <td>1.041850</td>\n",
              "      <td>1145.0</td>\n",
              "      <td>2.522026</td>\n",
              "      <td>36.97</td>\n",
              "      <td>-122.05</td>\n",
              "      <td>2.692495</td>\n",
              "      <td>2.638</td>\n",
              "    </tr>\n",
              "    <tr>\n",
              "      <th>7</th>\n",
              "      <td>4.3750</td>\n",
              "      <td>15.0</td>\n",
              "      <td>5.373626</td>\n",
              "      <td>1.027473</td>\n",
              "      <td>407.0</td>\n",
              "      <td>2.236264</td>\n",
              "      <td>34.86</td>\n",
              "      <td>-120.41</td>\n",
              "      <td>2.149895</td>\n",
              "      <td>1.580</td>\n",
              "    </tr>\n",
              "    <tr>\n",
              "      <th>8</th>\n",
              "      <td>2.5833</td>\n",
              "      <td>35.0</td>\n",
              "      <td>4.472906</td>\n",
              "      <td>1.113300</td>\n",
              "      <td>667.0</td>\n",
              "      <td>3.285714</td>\n",
              "      <td>34.10</td>\n",
              "      <td>-117.46</td>\n",
              "      <td>1.115220</td>\n",
              "      <td>0.935</td>\n",
              "    </tr>\n",
              "    <tr>\n",
              "      <th>9</th>\n",
              "      <td>4.2564</td>\n",
              "      <td>25.0</td>\n",
              "      <td>5.592105</td>\n",
              "      <td>1.085526</td>\n",
              "      <td>4528.0</td>\n",
              "      <td>4.255639</td>\n",
              "      <td>33.79</td>\n",
              "      <td>-117.81</td>\n",
              "      <td>1.860639</td>\n",
              "      <td>2.046</td>\n",
              "    </tr>\n",
              "  </tbody>\n",
              "</table>\n",
              "</div>"
            ],
            "text/plain": [
              "   MedInc HouseAge  AveRooms AveBedrms Population  AveOccup Latitude  \\\n",
              "0  5.7613     23.0  6.296748  1.101626     1486.0  3.020325    34.20   \n",
              "1  4.1500     11.0  5.500933  1.061567     2728.0  2.544776    35.62   \n",
              "2  7.1497     21.0  6.755245  0.930070      860.0  3.006993    33.61   \n",
              "3  3.4312     52.0  6.359909  1.050114     1177.0  2.681093    33.99   \n",
              "4  1.5026     10.0  3.326642  1.076642     2176.0  3.970803    33.75   \n",
              "5  4.9091      9.0  5.243243  1.137214     1591.0  3.307692    37.39   \n",
              "6  3.6797     20.0  5.348018  1.041850     1145.0  2.522026    36.97   \n",
              "7  4.3750     15.0  5.373626  1.027473      407.0  2.236264    34.86   \n",
              "8  2.5833     35.0  4.472906  1.113300      667.0  3.285714    34.10   \n",
              "9  4.2564     25.0  5.592105  1.085526     4528.0  4.255639    33.79   \n",
              "\n",
              "  Longitude HouseValue predicted HouseValue known  \n",
              "0   -118.62             2.964334            2.358  \n",
              "1   -117.66             1.134640            0.857  \n",
              "2   -117.66             2.866007            2.740  \n",
              "3   -118.03             2.175018            2.438  \n",
              "4   -117.88             1.449029            1.518  \n",
              "5   -121.87             2.146353            2.597  \n",
              "6   -122.05             2.692495            2.638  \n",
              "7   -120.41             2.149895            1.580  \n",
              "8   -117.46             1.115220            0.935  \n",
              "9   -117.81             1.860639            2.046  "
            ]
          },
          "execution_count": 22,
          "metadata": {},
          "output_type": "execute_result"
        }
      ],
      "source": [
        "\n",
        "test_features = scaler.inverse_transform(X_test_full_scaled)\n",
        "\n",
        "df_predict = pd.DataFrame(test_features, columns=[features]) #features contém os headers originais do dataset\n",
        "\n",
        "df_predict['HouseValue predicted'] = preds\n",
        "df_predict['HouseValue known'] = y_test\n",
        "\n",
        "df_predict.head(10)"
      ]
    },
    {
      "cell_type": "markdown",
      "metadata": {
        "id": "kkDI8UaTE4JR"
      },
      "source": [
        "Salvar o modelo."
      ]
    },
    {
      "cell_type": "code",
      "execution_count": 23,
      "metadata": {
        "id": "3HOxsqbYO9L5"
      },
      "outputs": [
        {
          "name": "stdout",
          "output_type": "stream",
          "text": [
            "INFO:tensorflow:Assets written to: /content/drive/MyDrive/Data/Meu_MLP\\assets\n"
          ]
        },
        {
          "name": "stderr",
          "output_type": "stream",
          "text": [
            "INFO:tensorflow:Assets written to: /content/drive/MyDrive/Data/Meu_MLP\\assets\n"
          ]
        }
      ],
      "source": [
        "model.save(\"/content/drive/MyDrive/Data/Meu_MLP\")"
      ]
    },
    {
      "cell_type": "markdown",
      "metadata": {
        "id": "0jc4ZdenE6EF"
      },
      "source": [
        "Carregar o modelo"
      ]
    },
    {
      "cell_type": "code",
      "execution_count": 24,
      "metadata": {
        "id": "gHxQlh91E8Jz"
      },
      "outputs": [],
      "source": [
        "model = 0\n",
        "\n",
        "model = keras.models.load_model(\"/content/drive/MyDrive/Data/Meu_MLP\")"
      ]
    },
    {
      "cell_type": "markdown",
      "metadata": {
        "id": "3r3cgjKqWlrt"
      },
      "source": [
        "## MLP para Classificação"
      ]
    },
    {
      "cell_type": "markdown",
      "metadata": {
        "id": "tgNoNbaUWx3G"
      },
      "source": [
        "Importando base de dados composta por imagens itens de moda pertencentes a 10 classes. Cada imagem é composta 28x28 pixels em grayscale (valores entre 0-255).\n",
        "\n",
        "A base já virá dividida entre treino e teste. \n",
        "\n",
        "\n",
        "\n",
        "*   60000 instâncias de treino\n",
        "*   10000 instâncias de teste\n",
        "\n"
      ]
    },
    {
      "cell_type": "code",
      "execution_count": 57,
      "metadata": {
        "colab": {
          "base_uri": "https://localhost:8080/"
        },
        "id": "p8JZW3F-Wx3H",
        "outputId": "cb6dba25-810b-4ed6-fdee-07492c3b148c"
      },
      "outputs": [
        {
          "name": "stdout",
          "output_type": "stream",
          "text": [
            "Downloading data from https://storage.googleapis.com/tensorflow/tf-keras-datasets/train-labels-idx1-ubyte.gz\n",
            "29515/29515 [==============================] - 0s 1us/step\n",
            "Downloading data from https://storage.googleapis.com/tensorflow/tf-keras-datasets/train-images-idx3-ubyte.gz\n",
            "26421880/26421880 [==============================] - 3s 0us/step\n",
            "Downloading data from https://storage.googleapis.com/tensorflow/tf-keras-datasets/t10k-labels-idx1-ubyte.gz\n",
            "5148/5148 [==============================] - 0s 0s/step\n",
            "Downloading data from https://storage.googleapis.com/tensorflow/tf-keras-datasets/t10k-images-idx3-ubyte.gz\n",
            "4422102/4422102 [==============================] - 0s 0us/step\n"
          ]
        }
      ],
      "source": [
        "fashion_mnist = keras.datasets.fashion_mnist\n",
        "(X_train_full, y_train_full), (X_test, y_test) = fashion_mnist.load_data()"
      ]
    },
    {
      "cell_type": "code",
      "execution_count": 61,
      "metadata": {
        "colab": {
          "base_uri": "https://localhost:8080/"
        },
        "id": "hc2i7BokWx3I",
        "outputId": "5829fe33-601f-458a-a6a6-9ad92c807d93"
      },
      "outputs": [
        {
          "name": "stdout",
          "output_type": "stream",
          "text": [
            "(60000, 28, 28)\n"
          ]
        }
      ],
      "source": [
        "print(X_train_full.shape)"
      ]
    },
    {
      "cell_type": "code",
      "execution_count": 60,
      "metadata": {
        "colab": {
          "base_uri": "https://localhost:8080/"
        },
        "id": "wGCnb_QnX2ur",
        "outputId": "15f3a6c1-948b-4a24-cd83-0f304d43f82c"
      },
      "outputs": [
        {
          "name": "stdout",
          "output_type": "stream",
          "text": [
            "uint8\n"
          ]
        }
      ],
      "source": [
        "print(X_train_full.dtype)"
      ]
    },
    {
      "cell_type": "markdown",
      "metadata": {
        "id": "W5Td3uoaWx3I"
      },
      "source": [
        "Normalizamos os atributos X, para assumirem um valor entre 0 e 1. Faremos isto dividindo por 255 (valores possíveis para uma representação de imagem em grayscale).\n",
        "\n",
        "Adicionalmente, criamos uma particição de validação. Agora teremos:\n",
        "\n",
        "\n",
        "*   55.000 itens de treino\n",
        "*   5.000 itens de validação\n",
        "\n"
      ]
    },
    {
      "cell_type": "code",
      "execution_count": 66,
      "metadata": {
        "id": "cYcyDKpBX6M0"
      },
      "outputs": [],
      "source": [
        "X_valid, X_train = X_train_full[:5000] / 255.0, X_train_full[5000:] / 255.0\n",
        "y_valid, y_train = y_train_full[:5000], y_train_full[5000:]"
      ]
    },
    {
      "cell_type": "markdown",
      "metadata": {},
      "source": [
        "Shape de um exemplo de treinamento é o tamanho da imagem."
      ]
    },
    {
      "cell_type": "code",
      "execution_count": 67,
      "metadata": {},
      "outputs": [
        {
          "name": "stdout",
          "output_type": "stream",
          "text": [
            "(28, 28)\n"
          ]
        }
      ],
      "source": [
        "print(X_train[1].shape)"
      ]
    },
    {
      "cell_type": "markdown",
      "metadata": {},
      "source": [
        "Como a imagem é representada no array normalizado."
      ]
    },
    {
      "cell_type": "code",
      "execution_count": 68,
      "metadata": {
        "colab": {
          "base_uri": "https://localhost:8080/"
        },
        "id": "mE_ZqF-4avX2",
        "outputId": "8f88418c-9444-44b3-8dab-8026e1b69653"
      },
      "outputs": [
        {
          "name": "stdout",
          "output_type": "stream",
          "text": [
            "[[0.         0.         0.         0.         0.         0.\n",
            "  0.         0.17254902 0.21568627 0.37647059 0.78823529 0.1372549\n",
            "  0.         0.         0.         0.         0.         0.23529412\n",
            "  0.72156863 0.20784314 0.19607843 0.06666667 0.         0.\n",
            "  0.         0.         0.         0.        ]\n",
            " [0.         0.         0.         0.         0.         0.\n",
            "  0.35686275 0.40784314 0.3254902  0.17254902 0.70196078 0.95294118\n",
            "  0.83921569 0.61176471 0.58039216 0.83137255 0.97254902 1.\n",
            "  0.72156863 0.15686275 0.3372549  0.42745098 0.30588235 0.\n",
            "  0.         0.         0.         0.        ]\n",
            " [0.         0.         0.         0.         0.         0.29411765\n",
            "  0.55686275 0.19607843 0.29411765 0.23529412 0.08235294 0.38431373\n",
            "  0.83137255 0.8745098  0.73333333 0.90980392 0.83137255 0.36862745\n",
            "  0.01568627 0.22352941 0.25490196 0.21568627 0.56078431 0.27843137\n",
            "  0.         0.         0.         0.        ]\n",
            " [0.         0.         0.         0.         0.         0.41960784\n",
            "  0.52941176 0.36470588 0.24705882 0.24705882 0.21568627 0.10588235\n",
            "  0.11372549 0.38431373 0.43921569 0.22745098 0.14509804 0.0745098\n",
            "  0.20784314 0.22745098 0.23529412 0.34509804 0.47843137 0.43921569\n",
            "  0.         0.         0.         0.        ]\n",
            " [0.         0.         0.         0.         0.         0.60784314\n",
            "  0.45490196 0.41568627 0.27843137 0.24313725 0.19215686 0.24705882\n",
            "  0.19215686 0.13333333 0.12156863 0.1372549  0.19607843 0.24705882\n",
            "  0.21568627 0.22745098 0.25490196 0.42745098 0.44705882 0.58823529\n",
            "  0.         0.         0.         0.        ]\n",
            " [0.         0.         0.         0.         0.         0.57647059\n",
            "  0.54117647 0.38823529 0.37647059 0.24705882 0.24313725 0.20784314\n",
            "  0.14509804 0.18431373 0.19215686 0.10588235 0.1254902  0.19607843\n",
            "  0.22352941 0.25490196 0.31372549 0.41568627 0.52941176 0.59607843\n",
            "  0.00392157 0.         0.         0.        ]\n",
            " [0.         0.         0.         0.         0.20392157 0.58039216\n",
            "  0.41568627 0.45882353 0.3254902  0.30588235 0.13333333 0.13333333\n",
            "  0.23529412 0.20392157 0.22745098 0.2745098  0.22352941 0.13333333\n",
            "  0.19607843 0.2627451  0.2745098  0.45490196 0.41568627 0.57647059\n",
            "  0.18431373 0.         0.         0.        ]\n",
            " [0.         0.         0.         0.         0.50588235 0.48627451\n",
            "  0.39607843 0.60784314 0.51764706 0.4        0.2745098  0.2745098\n",
            "  0.21568627 0.19607843 0.14509804 0.14509804 0.24313725 0.34901961\n",
            "  0.16470588 0.33333333 0.46666667 0.58823529 0.45490196 0.47843137\n",
            "  0.47058824 0.         0.         0.        ]\n",
            " [0.         0.         0.         0.         0.29411765 0.50588235\n",
            "  0.56078431 0.94117647 0.66666667 0.44705882 0.34901961 0.15686275\n",
            "  0.14509804 0.17647059 0.19215686 0.19607843 0.13333333 0.20784314\n",
            "  0.38431373 0.34509804 0.61176471 0.93333333 0.54901961 0.50980392\n",
            "  0.29803922 0.         0.         0.        ]\n",
            " [0.         0.         0.         0.         0.         0.\n",
            "  0.06666667 0.85098039 0.88235294 0.40784314 0.38823529 0.36862745\n",
            "  0.19215686 0.23529412 0.19607843 0.2627451  0.2627451  0.27843137\n",
            "  0.34901961 0.25490196 0.83137255 0.8745098  0.06666667 0.\n",
            "  0.         0.         0.         0.        ]\n",
            " [0.         0.         0.         0.         0.         0.\n",
            "  0.         0.13333333 0.70980392 0.41568627 0.29411765 0.45882353\n",
            "  0.16470588 0.1254902  0.28627451 0.18431373 0.11372549 0.37647059\n",
            "  0.3254902  0.4        0.67058824 0.15294118 0.         0.\n",
            "  0.         0.         0.         0.        ]\n",
            " [0.         0.         0.         0.         0.         0.00392157\n",
            "  0.         0.12156863 0.69803922 0.47058824 0.26666667 0.43529412\n",
            "  0.38431373 0.03137255 0.16470588 0.29411765 0.20392157 0.20784314\n",
            "  0.23529412 0.45882353 0.68235294 0.12156863 0.         0.01176471\n",
            "  0.         0.         0.         0.        ]\n",
            " [0.         0.         0.         0.         0.         0.00392157\n",
            "  0.         0.03137255 0.63921569 0.47843137 0.34509804 0.23529412\n",
            "  0.41960784 0.45882353 0.30588235 0.47843137 0.36862745 0.25490196\n",
            "  0.24705882 0.47058824 0.65882353 0.01568627 0.         0.00392157\n",
            "  0.         0.         0.         0.        ]\n",
            " [0.         0.         0.         0.         0.         0.00392157\n",
            "  0.         0.         0.57647059 0.44705882 0.42745098 0.39607843\n",
            "  0.24705882 0.24705882 0.41568627 0.19215686 0.15686275 0.39607843\n",
            "  0.4        0.39607843 0.6        0.         0.         0.00392157\n",
            "  0.         0.         0.         0.        ]\n",
            " [0.         0.         0.         0.         0.         0.\n",
            "  0.         0.         0.49803922 0.42745098 0.40784314 0.49019608\n",
            "  0.41960784 0.3254902  0.40784314 0.35686275 0.38431373 0.41960784\n",
            "  0.40784314 0.38823529 0.51764706 0.         0.         0.\n",
            "  0.         0.         0.         0.        ]\n",
            " [0.         0.         0.         0.         0.         0.\n",
            "  0.         0.         0.45490196 0.45882353 0.43921569 0.43921569\n",
            "  0.42745098 0.42745098 0.46666667 0.4        0.39607843 0.4\n",
            "  0.4        0.41568627 0.44705882 0.         0.         0.\n",
            "  0.         0.         0.         0.        ]\n",
            " [0.         0.         0.         0.         0.         0.\n",
            "  0.         0.         0.46666667 0.43921569 0.41960784 0.43529412\n",
            "  0.43529412 0.38431373 0.44705882 0.36862745 0.36862745 0.41960784\n",
            "  0.39607843 0.40784314 0.45882353 0.         0.         0.\n",
            "  0.         0.         0.         0.        ]\n",
            " [0.         0.         0.         0.         0.         0.\n",
            "  0.         0.         0.44705882 0.43529412 0.42745098 0.43529412\n",
            "  0.44705882 0.40784314 0.45882353 0.40784314 0.38431373 0.41960784\n",
            "  0.43921569 0.39607843 0.45882353 0.         0.         0.00392157\n",
            "  0.         0.         0.         0.        ]\n",
            " [0.         0.         0.         0.         0.         0.00392157\n",
            "  0.         0.03137255 0.46666667 0.43529412 0.43529412 0.42745098\n",
            "  0.44705882 0.40784314 0.46666667 0.41960784 0.38823529 0.41960784\n",
            "  0.45882353 0.37647059 0.46666667 0.03529412 0.         0.\n",
            "  0.         0.         0.         0.        ]\n",
            " [0.         0.         0.         0.         0.         0.00392157\n",
            "  0.         0.15294118 0.48627451 0.4        0.44705882 0.44705882\n",
            "  0.41568627 0.39607843 0.47058824 0.41960784 0.38431373 0.41960784\n",
            "  0.42745098 0.36862745 0.45882353 0.20392157 0.         0.\n",
            "  0.         0.         0.         0.        ]\n",
            " [0.         0.         0.         0.         0.         0.00392157\n",
            "  0.         0.20784314 0.48627451 0.39607843 0.44705882 0.45490196\n",
            "  0.41568627 0.42745098 0.47058824 0.43921569 0.4        0.38823529\n",
            "  0.45490196 0.38431373 0.42745098 0.34509804 0.         0.\n",
            "  0.         0.         0.         0.        ]\n",
            " [0.         0.         0.         0.         0.         0.\n",
            "  0.         0.29803922 0.44705882 0.40784314 0.41960784 0.41960784\n",
            "  0.4        0.39607843 0.44705882 0.43921569 0.4        0.37647059\n",
            "  0.47058824 0.36862745 0.42745098 0.38823529 0.         0.\n",
            "  0.         0.         0.         0.        ]\n",
            " [0.         0.         0.         0.         0.         0.\n",
            "  0.         0.34901961 0.41960784 0.4        0.41960784 0.43529412\n",
            "  0.41960784 0.4        0.43529412 0.42745098 0.4        0.37647059\n",
            "  0.43921569 0.38823529 0.43529412 0.41568627 0.         0.\n",
            "  0.         0.         0.         0.        ]\n",
            " [0.         0.         0.         0.         0.         0.\n",
            "  0.         0.36862745 0.38431373 0.36862745 0.41960784 0.42745098\n",
            "  0.41568627 0.41568627 0.43921569 0.41960784 0.36862745 0.4\n",
            "  0.47058824 0.42745098 0.37647059 0.44705882 0.         0.\n",
            "  0.         0.         0.         0.        ]\n",
            " [0.         0.         0.         0.         0.         0.\n",
            "  0.         0.36862745 0.37647059 0.39607843 0.41568627 0.4\n",
            "  0.40784314 0.40784314 0.43921569 0.43921569 0.37647059 0.38823529\n",
            "  0.43921569 0.45490196 0.38823529 0.41960784 0.         0.\n",
            "  0.         0.         0.         0.        ]\n",
            " [0.         0.         0.         0.         0.         0.\n",
            "  0.         0.40784314 0.38431373 0.38431373 0.4        0.38431373\n",
            "  0.39607843 0.38823529 0.40784314 0.42745098 0.36470588 0.38823529\n",
            "  0.38431373 0.41960784 0.40784314 0.47843137 0.         0.\n",
            "  0.00392157 0.         0.         0.        ]\n",
            " [0.         0.         0.         0.         0.         0.\n",
            "  0.         0.23529412 0.41568627 0.45882353 0.43529412 0.41960784\n",
            "  0.40784314 0.4        0.44705882 0.46666667 0.39607843 0.45490196\n",
            "  0.45490196 0.52941176 0.45490196 0.3372549  0.         0.\n",
            "  0.00392157 0.         0.         0.        ]\n",
            " [0.         0.         0.         0.         0.         0.\n",
            "  0.         0.         0.         0.1372549  0.23529412 0.30588235\n",
            "  0.34509804 0.38431373 0.39607843 0.40784314 0.31764706 0.25490196\n",
            "  0.21568627 0.1372549  0.         0.         0.         0.\n",
            "  0.         0.         0.         0.        ]]\n"
          ]
        }
      ],
      "source": [
        "print(X_train[1])"
      ]
    },
    {
      "cell_type": "markdown",
      "metadata": {},
      "source": [
        "Vamos criar uma lista com o nome das classes para facilitar a compreensão. Lembrando que são 10 classes diferentes."
      ]
    },
    {
      "cell_type": "code",
      "execution_count": 69,
      "metadata": {
        "id": "Mpc_3KGcbGPG"
      },
      "outputs": [],
      "source": [
        "class_names = [\"T-shirt/top\", \"Trouser\", \"Pullover\", \"Dress\", \"Coat\", \"Sandal\", \"Shirt\", \"Sneaker\", \"Bag\", \"Ankle boot\"]"
      ]
    },
    {
      "cell_type": "code",
      "execution_count": 74,
      "metadata": {
        "colab": {
          "base_uri": "https://localhost:8080/",
          "height": 35
        },
        "id": "0a3XXR0fbIm6",
        "outputId": "a000c610-a583-40e6-9715-ae059f4ff365"
      },
      "outputs": [
        {
          "name": "stdout",
          "output_type": "stream",
          "text": [
            "Coat\n"
          ]
        }
      ],
      "source": [
        "print(class_names[y_train[0]])"
      ]
    },
    {
      "cell_type": "markdown",
      "metadata": {},
      "source": [
        "Visualizando um exemplo como imagem."
      ]
    },
    {
      "cell_type": "code",
      "execution_count": 72,
      "metadata": {
        "colab": {
          "base_uri": "https://localhost:8080/",
          "height": 283
        },
        "id": "0634uZWtgLzU",
        "outputId": "5585774a-8247-4632-abc5-d75bbe4dd791"
      },
      "outputs": [
        {
          "data": {
            "text/plain": [
              "<matplotlib.image.AxesImage at 0x16341beedd0>"
            ]
          },
          "execution_count": 72,
          "metadata": {},
          "output_type": "execute_result"
        },
        {
          "data": {
            "image/png": "[encoded data removed]",
            "text/plain": [
              "<Figure size 640x480 with 1 Axes>"
            ]
          },
          "metadata": {},
          "output_type": "display_data"
        }
      ],
      "source": [
        "plt.imshow(X_train[0], cmap=plt.get_cmap('gray'))"
      ]
    },
    {
      "cell_type": "markdown",
      "metadata": {},
      "source": [
        "Vamos visualizar alguns outros exemplos para ter ideia de como é o dataset."
      ]
    },
    {
      "cell_type": "code",
      "execution_count": 53,
      "metadata": {
        "colab": {
          "base_uri": "https://localhost:8080/",
          "height": 308
        },
        "id": "ORViAHQihJLi",
        "outputId": "3a8acffb-8091-4cac-e24b-32ecd1955086"
      },
      "outputs": [
        {
          "data": {
            "image/png": "[encoded data removed]",
            "text/plain": [
              "<Figure size 1200x480 with 40 Axes>"
            ]
          },
          "metadata": {},
          "output_type": "display_data"
        }
      ],
      "source": [
        "n_rows = 4\n",
        "n_cols = 10\n",
        "plt.figure(figsize=(n_cols * 1.2, n_rows * 1.2))  \n",
        "for row in range(n_rows):\n",
        "    for col in range(n_cols):\n",
        "        index = n_cols * row + col\n",
        "        plt.subplot(n_rows, n_cols, index + 1)\n",
        "        plt.imshow(X_train[index], cmap=\"binary\", interpolation=\"nearest\")\n",
        "        plt.axis('off')\n",
        "        plt.title(class_names[y_train[index]], fontsize=12)\n",
        "plt.subplots_adjust(wspace=0.2, hspace=0.5)\n",
        "plt.show()"
      ]
    },
    {
      "cell_type": "code",
      "execution_count": 76,
      "metadata": {
        "id": "ZQ2RcvaJh8rb"
      },
      "outputs": [],
      "source": [
        "keras.backend.clear_session()\n",
        "np.random.seed(42)\n",
        "tf.random.set_seed(42)"
      ]
    },
    {
      "cell_type": "markdown",
      "metadata": {
        "id": "Cdi88sbwWx3L"
      },
      "source": [
        "Vamos construir um MLP com 4 Camadas:\n",
        "\n",
        "1.   Camada de entrada com que irá receber as imagens em matrizes 28x28 e irá converter em um vetor de uma dimensão de 784 entradas, uma para cada pixel.\n",
        "2.   Camada escondida 1 com 300 neurônios, função de ativação ReLU.\n",
        "3.   Camada escondida 2 com 100 neurônios, função de ativação ReLU.\n",
        "4.   Camada de saída com 10 neurônios e função de ativação SOFTMAX para classificação multiclasse.\n",
        "\n",
        "\n",
        "\n",
        "\n",
        "\n",
        "\n"
      ]
    },
    {
      "cell_type": "code",
      "execution_count": 84,
      "metadata": {
        "id": "OfEJ_S6UWx3I"
      },
      "outputs": [],
      "source": [
        "model = keras.models.Sequential([\n",
        "        keras.layers.Flatten(input_shape=[28, 28]),\n",
        "        keras.layers.Dense(300, activation=\"relu\"), #784 entradas * 300 neurônios = 235200 parâmetros para serem ajustados. Considerando os biases serão 235500 ao total.\n",
        "        keras.layers.Dense(100, activation=\"relu\"), #300 saídas da camada anterior * 100 neurônios = 30000 parâmetros. Considerando biases o total será de 30100.\n",
        "        keras.layers.Dense(10, activation=\"softmax\") #100 saídas da camada anterior * 10 neurônios da camada = 1000. Considerando biases o total será de 1010.\n",
        "])"
      ]
    },
    {
      "cell_type": "code",
      "execution_count": 82,
      "metadata": {
        "colab": {
          "base_uri": "https://localhost:8080/"
        },
        "id": "0905E8WpkE2Z",
        "outputId": "5e6e5ad8-10ad-46e2-a81d-b0e68ebad458"
      },
      "outputs": [
        {
          "name": "stdout",
          "output_type": "stream",
          "text": [
            "Model: \"sequential_1\"\n",
            "_________________________________________________________________\n",
            " Layer (type)                Output Shape              Param #   \n",
            "=================================================================\n",
            " flatten_1 (Flatten)         (None, 784)               0         \n",
            "                                                                 \n",
            " dense_3 (Dense)             (None, 300)               235500    \n",
            "                                                                 \n",
            " dense_4 (Dense)             (None, 100)               30100     \n",
            "                                                                 \n",
            " dense_5 (Dense)             (None, 10)                1010      \n",
            "                                                                 \n",
            "=================================================================\n",
            "Total params: 266,610\n",
            "Trainable params: 266,610\n",
            "Non-trainable params: 0\n",
            "_________________________________________________________________\n"
          ]
        }
      ],
      "source": [
        "model.summary()"
      ]
    },
    {
      "cell_type": "markdown",
      "metadata": {},
      "source": [
        "Plotando um diagrama da nossa rede."
      ]
    },
    {
      "cell_type": "code",
      "execution_count": 85,
      "metadata": {
        "colab": {
          "base_uri": "https://localhost:8080/",
          "height": 533
        },
        "id": "38u15mOMkQHN",
        "outputId": "08c94ff9-245c-4fab-f9cf-b7a6bd07bb60"
      },
      "outputs": [
        {
          "data": {
            "image/png": "[encoded data removed]",
            "text/plain": [
              "<IPython.core.display.Image object>"
            ]
          },
          "execution_count": 85,
          "metadata": {},
          "output_type": "execute_result"
        }
      ],
      "source": [
        "keras.utils.plot_model(model, show_shapes=True)"
      ]
    },
    {
      "cell_type": "markdown",
      "metadata": {
        "id": "G8Iem5KGWx3I"
      },
      "source": [
        "Compilar o modelo. Usando como função de perda a entropia cruzada, otimizador \"Gradiente Descendente Estocástico\" e métrica acurácia."
      ]
    },
    {
      "cell_type": "code",
      "execution_count": 88,
      "metadata": {
        "id": "R2eD8VPuWx3I"
      },
      "outputs": [],
      "source": [
        "model.compile(loss=\"sparse_categorical_crossentropy\",\n",
        "              optimizer=\"sgd\",\n",
        "              metrics=[\"accuracy\"])"
      ]
    },
    {
      "cell_type": "markdown",
      "metadata": {
        "id": "vp1qja2kWx3L"
      },
      "source": [
        "Estimar o modelo com 30 épocas."
      ]
    },
    {
      "cell_type": "code",
      "execution_count": 89,
      "metadata": {
        "colab": {
          "base_uri": "https://localhost:8080/"
        },
        "id": "VrtEqPlRWx3M",
        "outputId": "13fbfb21-e985-4c0e-b528-da254b479b42"
      },
      "outputs": [
        {
          "name": "stdout",
          "output_type": "stream",
          "text": [
            "Epoch 1/30\n",
            "1719/1719 [==============================] - 4s 2ms/step - loss: 0.7290 - accuracy: 0.7578 - val_loss: 0.5241 - val_accuracy: 0.8180\n",
            "Epoch 2/30\n",
            "1719/1719 [==============================] - 4s 2ms/step - loss: 0.4884 - accuracy: 0.8287 - val_loss: 0.4366 - val_accuracy: 0.8508\n",
            "Epoch 3/30\n",
            "1719/1719 [==============================] - 3s 2ms/step - loss: 0.4428 - accuracy: 0.8432 - val_loss: 0.5537 - val_accuracy: 0.7948\n",
            "Epoch 4/30\n",
            "1719/1719 [==============================] - 3s 2ms/step - loss: 0.4156 - accuracy: 0.8545 - val_loss: 0.3964 - val_accuracy: 0.8678\n",
            "Epoch 5/30\n",
            "1719/1719 [==============================] - 4s 2ms/step - loss: 0.3969 - accuracy: 0.8609 - val_loss: 0.3808 - val_accuracy: 0.8666\n",
            "Epoch 6/30\n",
            "1719/1719 [==============================] - 4s 2ms/step - loss: 0.3782 - accuracy: 0.8661 - val_loss: 0.3830 - val_accuracy: 0.8704\n",
            "Epoch 7/30\n",
            "1719/1719 [==============================] - 4s 2ms/step - loss: 0.3661 - accuracy: 0.8718 - val_loss: 0.3679 - val_accuracy: 0.8744\n",
            "Epoch 8/30\n",
            "1719/1719 [==============================] - 4s 2ms/step - loss: 0.3546 - accuracy: 0.8749 - val_loss: 0.3959 - val_accuracy: 0.8580\n",
            "Epoch 9/30\n",
            "1719/1719 [==============================] - 4s 2ms/step - loss: 0.3439 - accuracy: 0.8794 - val_loss: 0.3568 - val_accuracy: 0.8748\n",
            "Epoch 10/30\n",
            "1719/1719 [==============================] - 4s 2ms/step - loss: 0.3349 - accuracy: 0.8807 - val_loss: 0.3531 - val_accuracy: 0.8756\n",
            "Epoch 11/30\n",
            "1719/1719 [==============================] - 4s 2ms/step - loss: 0.3263 - accuracy: 0.8834 - val_loss: 0.3483 - val_accuracy: 0.8776\n",
            "Epoch 12/30\n",
            "1719/1719 [==============================] - 4s 2ms/step - loss: 0.3173 - accuracy: 0.8861 - val_loss: 0.3382 - val_accuracy: 0.8798\n",
            "Epoch 13/30\n",
            "1719/1719 [==============================] - 4s 2ms/step - loss: 0.3101 - accuracy: 0.8889 - val_loss: 0.3355 - val_accuracy: 0.8806\n",
            "Epoch 14/30\n",
            "1719/1719 [==============================] - 4s 2ms/step - loss: 0.3042 - accuracy: 0.8913 - val_loss: 0.3501 - val_accuracy: 0.8712\n",
            "Epoch 15/30\n",
            "1719/1719 [==============================] - 4s 2ms/step - loss: 0.2960 - accuracy: 0.8941 - val_loss: 0.3316 - val_accuracy: 0.8806\n",
            "Epoch 16/30\n",
            "1719/1719 [==============================] - 4s 2ms/step - loss: 0.2912 - accuracy: 0.8957 - val_loss: 0.3144 - val_accuracy: 0.8850\n",
            "Epoch 17/30\n",
            "1719/1719 [==============================] - 4s 2ms/step - loss: 0.2855 - accuracy: 0.8977 - val_loss: 0.3612 - val_accuracy: 0.8700\n",
            "Epoch 18/30\n",
            "1719/1719 [==============================] - 4s 2ms/step - loss: 0.2792 - accuracy: 0.8986 - val_loss: 0.3205 - val_accuracy: 0.8842\n",
            "Epoch 19/30\n",
            "1719/1719 [==============================] - 4s 2ms/step - loss: 0.2744 - accuracy: 0.9018 - val_loss: 0.3128 - val_accuracy: 0.8896\n",
            "Epoch 20/30\n",
            "1719/1719 [==============================] - 4s 2ms/step - loss: 0.2692 - accuracy: 0.9035 - val_loss: 0.3402 - val_accuracy: 0.8800\n",
            "Epoch 21/30\n",
            "1719/1719 [==============================] - 4s 2ms/step - loss: 0.2640 - accuracy: 0.9053 - val_loss: 0.3043 - val_accuracy: 0.8920\n",
            "Epoch 22/30\n",
            "1719/1719 [==============================] - 4s 2ms/step - loss: 0.2593 - accuracy: 0.9060 - val_loss: 0.2985 - val_accuracy: 0.8918\n",
            "Epoch 23/30\n",
            "1719/1719 [==============================] - 4s 2ms/step - loss: 0.2551 - accuracy: 0.9069 - val_loss: 0.3043 - val_accuracy: 0.8890\n",
            "Epoch 24/30\n",
            "1719/1719 [==============================] - 4s 2ms/step - loss: 0.2508 - accuracy: 0.9093 - val_loss: 0.3094 - val_accuracy: 0.8884\n",
            "Epoch 25/30\n",
            "1719/1719 [==============================] - 4s 2ms/step - loss: 0.2464 - accuracy: 0.9109 - val_loss: 0.3038 - val_accuracy: 0.8906\n",
            "Epoch 26/30\n",
            "1719/1719 [==============================] - 4s 2ms/step - loss: 0.2426 - accuracy: 0.9132 - val_loss: 0.3033 - val_accuracy: 0.8900\n",
            "Epoch 27/30\n",
            "1719/1719 [==============================] - 4s 2ms/step - loss: 0.2392 - accuracy: 0.9139 - val_loss: 0.2974 - val_accuracy: 0.8932\n",
            "Epoch 28/30\n",
            "1719/1719 [==============================] - 4s 2ms/step - loss: 0.2352 - accuracy: 0.9153 - val_loss: 0.3076 - val_accuracy: 0.8900\n",
            "Epoch 29/30\n",
            "1719/1719 [==============================] - 4s 2ms/step - loss: 0.2308 - accuracy: 0.9175 - val_loss: 0.3125 - val_accuracy: 0.8896\n",
            "Epoch 30/30\n",
            "1719/1719 [==============================] - 4s 2ms/step - loss: 0.2276 - accuracy: 0.9176 - val_loss: 0.3120 - val_accuracy: 0.8904\n"
          ]
        }
      ],
      "source": [
        "history = model.fit(X_train, y_train, epochs=30,\n",
        "                    validation_data=(X_valid, y_valid))             "
      ]
    },
    {
      "cell_type": "markdown",
      "metadata": {
        "id": "nCOrACKjDaSP"
      },
      "source": [
        "Plotando a função de perda e acurácia do modelo para treino e validação."
      ]
    },
    {
      "cell_type": "code",
      "execution_count": 25,
      "metadata": {
        "colab": {
          "base_uri": "https://localhost:8080/",
          "height": 324
        },
        "id": "nhVV3zPIWx3M",
        "outputId": "63f24beb-3b8a-45b5-9875-f34dd647e7d6"
      },
      "outputs": [
        {
          "data": {
            "image/png": "[encoded data removed]",
            "text/plain": [
              "<Figure size 800x500 with 1 Axes>"
            ]
          },
          "metadata": {},
          "output_type": "display_data"
        }
      ],
      "source": [
        "pd.DataFrame(history.history).plot(figsize=(8, 5))\n",
        "plt.gca().set_ylim(0, 1)\n",
        "plt.grid(True)"
      ]
    },
    {
      "cell_type": "markdown",
      "metadata": {
        "id": "Aa3A4Zs1DicF"
      },
      "source": [
        "Acurácia de Treino e Teste."
      ]
    },
    {
      "cell_type": "code",
      "execution_count": 91,
      "metadata": {
        "colab": {
          "base_uri": "https://localhost:8080/"
        },
        "id": "q_qS4GHHWx3M",
        "outputId": "cb41e436-a540-4199-b3f3-41e910a09991"
      },
      "outputs": [
        {
          "name": "stdout",
          "output_type": "stream",
          "text": [
            "1719/1719 [==============================] - 3s 2ms/step - loss: 0.2275 - accuracy: 0.9173\n",
            "Loss e Acurácia Treino:  [0.2275022268295288, 0.9173454642295837]\n",
            "313/313 [==============================] - 1s 2ms/step - loss: 76.4433 - accuracy: 0.8286\n",
            "Loss e Acurácia Teste:  [76.44332122802734, 0.8285999894142151]\n"
          ]
        }
      ],
      "source": [
        "print(\"Loss e Acurácia Treino: \", model.evaluate(X_train, y_train))\n",
        "print(\"Loss e Acurácia Teste: \", model.evaluate(X_test, y_test))"
      ]
    },
    {
      "cell_type": "markdown",
      "metadata": {
        "id": "rpMVmNFXDoOr"
      },
      "source": [
        "Classificando uma instância nova"
      ]
    },
    {
      "cell_type": "code",
      "execution_count": 99,
      "metadata": {
        "colab": {
          "base_uri": "https://localhost:8080/"
        },
        "id": "tUretsI2Wx3M",
        "outputId": "07332eaa-cd8b-410f-a16b-af9fb37658f9"
      },
      "outputs": [
        {
          "name": "stdout",
          "output_type": "stream",
          "text": [
            "1/1 [==============================] - 0s 20ms/step\n"
          ]
        },
        {
          "data": {
            "text/plain": [
              "array([[0., 0., 0., 0., 0., 0., 0., 0., 0., 1.]], dtype=float32)"
            ]
          },
          "execution_count": 99,
          "metadata": {},
          "output_type": "execute_result"
        }
      ],
      "source": [
        "X_new = X_test[:1]\n",
        "\n",
        "y_proba = model.predict(X_new)\n",
        "y_proba.round(4) #arredonda para no máximo 4 casas decimais\n",
        "y_proba"
      ]
    },
    {
      "cell_type": "markdown",
      "metadata": {
        "id": "4tyR1ERLDrpi"
      },
      "source": [
        "Nome da classe predita."
      ]
    },
    {
      "cell_type": "code",
      "execution_count": 100,
      "metadata": {
        "colab": {
          "base_uri": "https://localhost:8080/",
          "height": 35
        },
        "id": "fEK6KgeYC0WB",
        "outputId": "e41fdc28-491f-4661-b690-ea43939ea2a9"
      },
      "outputs": [
        {
          "name": "stdout",
          "output_type": "stream",
          "text": [
            "Ankle boot\n"
          ]
        }
      ],
      "source": [
        "print(class_names[np.argmax(y_proba)])"
      ]
    },
    {
      "cell_type": "code",
      "execution_count": 101,
      "metadata": {
        "colab": {
          "base_uri": "https://localhost:8080/",
          "height": 283
        },
        "id": "0V9J45RDDBgf",
        "outputId": "bc3a6cd8-4da0-4b38-94d3-035801947207"
      },
      "outputs": [
        {
          "data": {
            "text/plain": [
              "<matplotlib.image.AxesImage at 0x1633dc5d1b0>"
            ]
          },
          "execution_count": 101,
          "metadata": {},
          "output_type": "execute_result"
        },
        {
          "data": {
            "image/png": "[encoded data removed]",
            "text/plain": [
              "<Figure size 640x480 with 1 Axes>"
            ]
          },
          "metadata": {},
          "output_type": "display_data"
        }
      ],
      "source": [
        "plt.imshow(X_new[0], cmap=plt.get_cmap('gray'))"
      ]
    },
    {
      "cell_type": "markdown",
      "metadata": {
        "id": "XO1p0R7EEcUJ"
      },
      "source": [
        "Salvando o modelo."
      ]
    },
    {
      "cell_type": "code",
      "execution_count": null,
      "metadata": {
        "id": "P1HxXri_Wx3M"
      },
      "outputs": [],
      "source": [
        "model.save(\"/content/drive/MyDrive/Data/Meu_MLP_clas\")"
      ]
    },
    {
      "cell_type": "markdown",
      "metadata": {
        "id": "eDlmqY8VEgHQ"
      },
      "source": [
        "Carregando o modelo."
      ]
    },
    {
      "cell_type": "code",
      "execution_count": null,
      "metadata": {
        "id": "PjF8kO_GEh1D"
      },
      "outputs": [],
      "source": [
        "model = 0\n",
        "\n",
        "model = keras.models.load_model(\"/content/drive/MyDrive/Data/Meu_MLP_clas\")"
      ]
    }
  ],
  "metadata": {
    "colab": {
      "collapsed_sections": [
        "HcUopKJW2hHh",
        "3r3cgjKqWlrt"
      ],
      "provenance": []
    },
    "kernelspec": {
      "display_name": "Python 3",
      "language": "python",
      "name": "python3"
    },
    "language_info": {
      "codemirror_mode": {
        "name": "ipython",
        "version": 3
      },
      "file_extension": ".py",
      "mimetype": "text/x-python",
      "name": "python",
      "nbconvert_exporter": "python",
      "pygments_lexer": "ipython3",
      "version": "3.11.3"
    }
  },
  "nbformat": 4,
  "nbformat_minor": 0
}
