{
 "cells": [
  {
   "cell_type": "markdown",
   "id": "b4f0df21-6bb8-4f3a-84a0-5275a18b0659",
   "metadata": {},
   "source": [
    "<h1>Trabalho 3 - Regressão Logística com Múltiplas Features</h1>\n",
    "\n",
    "Nesta tarefa, implementaremos um algoritmo de regressão logística capaz de lidar com datasets de múltiplas features. Utilizaremos o método do gradiente descendente para encontrar os pesos w e b do nosso modelo.\n",
    "\n",
    "Para completar esta tarefa, você deve implementar o seguinte:\n",
    "- Uma função sigmóide.\n",
    "- Uma função de gradiente, para calcular o valor da derivada da função de custo para os parâmetros $\\vec{w}$ e $b$.\n",
    "- Uma função para o método de gradiente descendente de múltiplas features.\n",
    "- Uma função de custo $J(\\vec{w},b)$, a entropia-cruzada binária, que utilizaremos para analisar a convergência do modelo.\n",
    "- Uma função para predizer a classe do exemplo.\n",
    "\n",
    "O dataset que utilizaremos está disponível no moodle. É um dataset contendo notas de dois exames realizados por alunos e o rótulo indicando se o aluno foi aceito em uma universidade com estas notas ou não. Trata-se de um problema de **classificação binária**."
   ]
  },
  {
   "cell_type": "markdown",
   "id": "36dd4d13-7c97-4800-a260-6cc0a028726e",
   "metadata": {},
   "source": [
    "Trabalharemos basicamente com arrays numpy, porém utilizaremos a biblioteca pandas pela conveniência de informações e facilidade de carregar o dataset disponibilizado em um arquivo CSV.\n",
    "Também utilizaremos o módulo pyplot da biblioteca matplotlib, para plotar os gráficos que utilizaremos para avaliar o modelo."
   ]
  },
  {
   "cell_type": "markdown",
   "id": "e147faa5-4a54-4805-a7aa-5297c0446bfe",
   "metadata": {},
   "source": [
    "<h2>Importando biliotecas, carregando e preparando dataset</h2>"
   ]
  },
  {
   "cell_type": "markdown",
   "id": "26749aed-60bd-400f-884b-1d3ff42a485e",
   "metadata": {},
   "source": [
    "Trabalharemos basicamente com arrays numpy, porém utilizaremos a biblioteca pandas pela conveniência de informações e facilidade de carregar o dataset disponibilizado em um arquivo CSV. Também utilizaremos o módulo pyplot da biblioteca matplotlib, para plotar os gráficos que utilizaremos para avaliar o modelo."
   ]
  },
  {
   "cell_type": "markdown",
   "id": "25157cf1-64fa-4fdb-97b2-bf4134de82d8",
   "metadata": {},
   "source": [
    "Importando as bibliotecas."
   ]
  },
  {
   "cell_type": "code",
   "execution_count": 1,
   "id": "80734f5b-7f14-4511-926c-ceb995016ed5",
   "metadata": {},
   "outputs": [],
   "source": [
    "import numpy as np\n",
    "import pandas as pd\n",
    "import matplotlib.pyplot as plt"
   ]
  },
  {
   "cell_type": "markdown",
   "id": "01badec5-9d12-45d3-81e6-f10c8ab6dd86",
   "metadata": {},
   "source": [
    "O primeiro passo é importar nosso dataset em um dataframe pandas. \n",
    "\n",
    "Note que se o dataset não estivar na mesma pasta em que este Notebook você precisará alterar o caminho para o arquivo."
   ]
  },
  {
   "cell_type": "code",
   "execution_count": 2,
   "id": "9cb3bce2-5815-4bd6-b659-b2906fb8e45b",
   "metadata": {},
   "outputs": [],
   "source": [
    "dataset = pd.read_csv(\"notas_vs_admissao.csv\")"
   ]
  },
  {
   "cell_type": "markdown",
   "id": "5e8eb781-e69e-4a39-adcf-d1778dfc35f2",
   "metadata": {},
   "source": [
    "O dataset que vamos utilizar contém exemplos de alunos que realizaram dois exames diferentes e aplicaram para entrada em uma universidade. \n",
    "Caso o aluno tenha sido admitido para a universidade, sua classe é 1, caso contrário, sua classe é 0.\n",
    "\n",
    "Neste trabalho, o objetivo é treinar um modelo capaz de predizer corretamente a classe do aluno (admitido ou não) com base nas notas dos exames.\n",
    "\n",
    "Inicialmente, vamos analisar os 10 primeiros exemplos do nosso dataset."
   ]
  },
  {
   "cell_type": "code",
   "execution_count": 3,
   "id": "54c91c86-f97e-4453-b1b3-1c4eccbe4ac5",
   "metadata": {},
   "outputs": [
    {
     "data": {
      "text/html": [
       "<div>\n",
       "<style scoped>\n",
       "    .dataframe tbody tr th:only-of-type {\n",
       "        vertical-align: middle;\n",
       "    }\n",
       "\n",
       "    .dataframe tbody tr th {\n",
       "        vertical-align: top;\n",
       "    }\n",
       "\n",
       "    .dataframe thead th {\n",
       "        text-align: right;\n",
       "    }\n",
       "</style>\n",
       "<table border=\"1\" class=\"dataframe\">\n",
       "  <thead>\n",
       "    <tr style=\"text-align: right;\">\n",
       "      <th></th>\n",
       "      <th>Nota1</th>\n",
       "      <th>Nota2</th>\n",
       "      <th>Admitido</th>\n",
       "    </tr>\n",
       "  </thead>\n",
       "  <tbody>\n",
       "    <tr>\n",
       "      <th>0</th>\n",
       "      <td>34.623660</td>\n",
       "      <td>78.024693</td>\n",
       "      <td>0</td>\n",
       "    </tr>\n",
       "    <tr>\n",
       "      <th>1</th>\n",
       "      <td>30.286711</td>\n",
       "      <td>43.894998</td>\n",
       "      <td>0</td>\n",
       "    </tr>\n",
       "    <tr>\n",
       "      <th>2</th>\n",
       "      <td>35.847409</td>\n",
       "      <td>72.902198</td>\n",
       "      <td>0</td>\n",
       "    </tr>\n",
       "    <tr>\n",
       "      <th>3</th>\n",
       "      <td>60.182599</td>\n",
       "      <td>86.308552</td>\n",
       "      <td>1</td>\n",
       "    </tr>\n",
       "    <tr>\n",
       "      <th>4</th>\n",
       "      <td>79.032736</td>\n",
       "      <td>75.344376</td>\n",
       "      <td>1</td>\n",
       "    </tr>\n",
       "    <tr>\n",
       "      <th>5</th>\n",
       "      <td>45.083277</td>\n",
       "      <td>56.316372</td>\n",
       "      <td>0</td>\n",
       "    </tr>\n",
       "    <tr>\n",
       "      <th>6</th>\n",
       "      <td>61.106665</td>\n",
       "      <td>96.511426</td>\n",
       "      <td>1</td>\n",
       "    </tr>\n",
       "    <tr>\n",
       "      <th>7</th>\n",
       "      <td>75.024746</td>\n",
       "      <td>46.554014</td>\n",
       "      <td>1</td>\n",
       "    </tr>\n",
       "    <tr>\n",
       "      <th>8</th>\n",
       "      <td>76.098787</td>\n",
       "      <td>87.420570</td>\n",
       "      <td>1</td>\n",
       "    </tr>\n",
       "    <tr>\n",
       "      <th>9</th>\n",
       "      <td>84.432820</td>\n",
       "      <td>43.533393</td>\n",
       "      <td>1</td>\n",
       "    </tr>\n",
       "  </tbody>\n",
       "</table>\n",
       "</div>"
      ],
      "text/plain": [
       "       Nota1      Nota2  Admitido\n",
       "0  34.623660  78.024693         0\n",
       "1  30.286711  43.894998         0\n",
       "2  35.847409  72.902198         0\n",
       "3  60.182599  86.308552         1\n",
       "4  79.032736  75.344376         1\n",
       "5  45.083277  56.316372         0\n",
       "6  61.106665  96.511426         1\n",
       "7  75.024746  46.554014         1\n",
       "8  76.098787  87.420570         1\n",
       "9  84.432820  43.533393         1"
      ]
     },
     "execution_count": 3,
     "metadata": {},
     "output_type": "execute_result"
    }
   ],
   "source": [
    "dataset.head(10)"
   ]
  },
  {
   "cell_type": "markdown",
   "id": "18e4017b-4fed-4800-acc0-f768b9d140c1",
   "metadata": {},
   "source": [
    "A biblioteca pandas possui a função <b>describe()</b>, que compila diversas medidas estatísticas de cada feature do nosso dataset de forma automática.\n",
    "- count: quantidade de exemplos no dataset\n",
    "- mean: média aritmética\n",
    "- std: desvio padrão\n",
    "- min: menor valor da feature no dataset\n",
    "- 25% / 50% / 75%: percentis para cada feature (valor que divide o dataset nessa proporção, para 50% é o mesmo que a mediana)\n",
    "- max: maior valor da feature no dataset"
   ]
  },
  {
   "cell_type": "code",
   "execution_count": 4,
   "id": "40d96503-2d4f-4960-ac91-d3d3f2d95f15",
   "metadata": {},
   "outputs": [
    {
     "data": {
      "text/html": [
       "<div>\n",
       "<style scoped>\n",
       "    .dataframe tbody tr th:only-of-type {\n",
       "        vertical-align: middle;\n",
       "    }\n",
       "\n",
       "    .dataframe tbody tr th {\n",
       "        vertical-align: top;\n",
       "    }\n",
       "\n",
       "    .dataframe thead th {\n",
       "        text-align: right;\n",
       "    }\n",
       "</style>\n",
       "<table border=\"1\" class=\"dataframe\">\n",
       "  <thead>\n",
       "    <tr style=\"text-align: right;\">\n",
       "      <th></th>\n",
       "      <th>Nota1</th>\n",
       "      <th>Nota2</th>\n",
       "      <th>Admitido</th>\n",
       "    </tr>\n",
       "  </thead>\n",
       "  <tbody>\n",
       "    <tr>\n",
       "      <th>count</th>\n",
       "      <td>100.000000</td>\n",
       "      <td>100.000000</td>\n",
       "      <td>100.000000</td>\n",
       "    </tr>\n",
       "    <tr>\n",
       "      <th>mean</th>\n",
       "      <td>65.644274</td>\n",
       "      <td>66.221998</td>\n",
       "      <td>0.600000</td>\n",
       "    </tr>\n",
       "    <tr>\n",
       "      <th>std</th>\n",
       "      <td>19.458222</td>\n",
       "      <td>18.582783</td>\n",
       "      <td>0.492366</td>\n",
       "    </tr>\n",
       "    <tr>\n",
       "      <th>min</th>\n",
       "      <td>30.058822</td>\n",
       "      <td>30.603263</td>\n",
       "      <td>0.000000</td>\n",
       "    </tr>\n",
       "    <tr>\n",
       "      <th>25%</th>\n",
       "      <td>50.919511</td>\n",
       "      <td>48.179205</td>\n",
       "      <td>0.000000</td>\n",
       "    </tr>\n",
       "    <tr>\n",
       "      <th>50%</th>\n",
       "      <td>67.032988</td>\n",
       "      <td>67.682381</td>\n",
       "      <td>1.000000</td>\n",
       "    </tr>\n",
       "    <tr>\n",
       "      <th>75%</th>\n",
       "      <td>80.212529</td>\n",
       "      <td>79.360605</td>\n",
       "      <td>1.000000</td>\n",
       "    </tr>\n",
       "    <tr>\n",
       "      <th>max</th>\n",
       "      <td>99.827858</td>\n",
       "      <td>98.869436</td>\n",
       "      <td>1.000000</td>\n",
       "    </tr>\n",
       "  </tbody>\n",
       "</table>\n",
       "</div>"
      ],
      "text/plain": [
       "            Nota1       Nota2    Admitido\n",
       "count  100.000000  100.000000  100.000000\n",
       "mean    65.644274   66.221998    0.600000\n",
       "std     19.458222   18.582783    0.492366\n",
       "min     30.058822   30.603263    0.000000\n",
       "25%     50.919511   48.179205    0.000000\n",
       "50%     67.032988   67.682381    1.000000\n",
       "75%     80.212529   79.360605    1.000000\n",
       "max     99.827858   98.869436    1.000000"
      ]
     },
     "execution_count": 4,
     "metadata": {},
     "output_type": "execute_result"
    }
   ],
   "source": [
    "dataset.describe()"
   ]
  },
  {
   "cell_type": "markdown",
   "id": "7543a4e8-9359-416b-8573-bcf49478888e",
   "metadata": {},
   "source": [
    "Para implementação, iremos trabalhar apenas com arrays da bilioteca numpy, por isso converteremos o dataframe pandas em dois arrays numpy. O primeiro contendo nossos exemplos e o segundo contendo os nossos valores objetivos.\n"
   ]
  },
  {
   "cell_type": "code",
   "execution_count": 5,
   "id": "1a65f3bd-848f-486a-a549-4586daaf857c",
   "metadata": {},
   "outputs": [],
   "source": [
    "nparray = dataset.to_numpy()\n",
    "numero_feature = nparray.shape[1]\n",
    "X = nparray[:,:numero_feature-1]\n",
    "Y = nparray[:,numero_feature-1]"
   ]
  },
  {
   "cell_type": "markdown",
   "id": "00fcd837-f689-4dd3-8291-8f93d80bed98",
   "metadata": {},
   "source": [
    "Abaixo podemos verificar as dimensões e tipo dos nossos dados."
   ]
  },
  {
   "cell_type": "code",
   "execution_count": 6,
   "id": "8a6ca0a6-3827-4560-b8af-7d32a0fb1b9f",
   "metadata": {},
   "outputs": [
    {
     "data": {
      "text/plain": [
       "(100, 2)"
      ]
     },
     "execution_count": 6,
     "metadata": {},
     "output_type": "execute_result"
    }
   ],
   "source": [
    "X.shape"
   ]
  },
  {
   "cell_type": "code",
   "execution_count": 7,
   "id": "4b22465e-dd61-45a5-97fb-f1f95a729d82",
   "metadata": {
    "scrolled": true
   },
   "outputs": [
    {
     "data": {
      "text/plain": [
       "array([[34.62365962, 78.02469282],\n",
       "       [30.28671077, 43.89499752],\n",
       "       [35.84740877, 72.90219803],\n",
       "       [60.18259939, 86.3085521 ],\n",
       "       [79.03273605, 75.34437644],\n",
       "       [45.08327748, 56.31637178],\n",
       "       [61.10666454, 96.51142588],\n",
       "       [75.02474557, 46.55401354],\n",
       "       [76.0987867 , 87.42056972],\n",
       "       [84.43281996, 43.53339331],\n",
       "       [95.86155507, 38.22527806],\n",
       "       [75.01365839, 30.60326323],\n",
       "       [82.30705337, 76.4819633 ],\n",
       "       [69.36458876, 97.71869196],\n",
       "       [39.53833914, 76.03681085],\n",
       "       [53.97105215, 89.20735014],\n",
       "       [69.07014406, 52.74046973],\n",
       "       [67.94685548, 46.67857411],\n",
       "       [70.66150955, 92.92713789],\n",
       "       [76.97878373, 47.57596365],\n",
       "       [67.37202755, 42.83843832],\n",
       "       [89.67677575, 65.79936593],\n",
       "       [50.53478829, 48.85581153],\n",
       "       [34.21206098, 44.2095286 ],\n",
       "       [77.92409145, 68.97235999],\n",
       "       [62.27101367, 69.95445795],\n",
       "       [80.19018075, 44.82162893],\n",
       "       [93.1143888 , 38.80067034],\n",
       "       [61.83020602, 50.25610789],\n",
       "       [38.7858038 , 64.99568096],\n",
       "       [61.37928945, 72.80788731],\n",
       "       [85.40451939, 57.05198398],\n",
       "       [52.10797973, 63.12762377],\n",
       "       [52.04540477, 69.43286012],\n",
       "       [40.23689374, 71.16774802],\n",
       "       [54.63510555, 52.21388588],\n",
       "       [33.91550011, 98.86943574],\n",
       "       [64.17698887, 80.90806059],\n",
       "       [74.78925296, 41.57341523],\n",
       "       [34.18364003, 75.23772034],\n",
       "       [83.90239366, 56.30804622],\n",
       "       [51.54772027, 46.85629026],\n",
       "       [94.44336777, 65.56892161],\n",
       "       [82.36875376, 40.61825516],\n",
       "       [51.04775177, 45.82270146],\n",
       "       [62.22267576, 52.06099195],\n",
       "       [77.19303493, 70.4582    ],\n",
       "       [97.77159928, 86.72782233],\n",
       "       [62.0730638 , 96.76882412],\n",
       "       [91.5649745 , 88.69629255],\n",
       "       [79.94481794, 74.16311935],\n",
       "       [99.27252693, 60.999031  ],\n",
       "       [90.54671411, 43.39060181],\n",
       "       [34.52451385, 60.39634246],\n",
       "       [50.28649612, 49.80453881],\n",
       "       [49.58667722, 59.80895099],\n",
       "       [97.64563396, 68.86157272],\n",
       "       [32.57720017, 95.59854761],\n",
       "       [74.24869137, 69.82457123],\n",
       "       [71.79646206, 78.45356225],\n",
       "       [75.39561147, 85.75993667],\n",
       "       [35.28611282, 47.02051395],\n",
       "       [56.2538175 , 39.26147251],\n",
       "       [30.05882245, 49.59297387],\n",
       "       [44.66826172, 66.45008615],\n",
       "       [66.56089447, 41.09209808],\n",
       "       [40.45755098, 97.53518549],\n",
       "       [49.07256322, 51.88321182],\n",
       "       [80.27957401, 92.11606081],\n",
       "       [66.74671857, 60.99139403],\n",
       "       [32.72283304, 43.30717306],\n",
       "       [64.03932042, 78.03168802],\n",
       "       [72.34649423, 96.22759297],\n",
       "       [60.45788574, 73.0949981 ],\n",
       "       [58.84095622, 75.85844831],\n",
       "       [99.8278578 , 72.36925193],\n",
       "       [47.26426911, 88.475865  ],\n",
       "       [50.4581598 , 75.80985953],\n",
       "       [60.45555629, 42.50840944],\n",
       "       [82.22666158, 42.71987854],\n",
       "       [88.91389642, 69.8037889 ],\n",
       "       [94.83450672, 45.6943068 ],\n",
       "       [67.31925747, 66.58935318],\n",
       "       [57.23870632, 59.51428198],\n",
       "       [80.366756  , 90.9601479 ],\n",
       "       [68.46852179, 85.5943071 ],\n",
       "       [42.07545454, 78.844786  ],\n",
       "       [75.47770201, 90.424539  ],\n",
       "       [78.63542435, 96.64742717],\n",
       "       [52.34800399, 60.76950526],\n",
       "       [94.09433113, 77.15910509],\n",
       "       [90.44855097, 87.50879176],\n",
       "       [55.48216114, 35.57070347],\n",
       "       [74.49269242, 84.84513685],\n",
       "       [89.84580671, 45.35828361],\n",
       "       [83.48916274, 48.3802858 ],\n",
       "       [42.26170081, 87.10385094],\n",
       "       [99.31500881, 68.77540947],\n",
       "       [55.34001756, 64.93193801],\n",
       "       [74.775893  , 89.5298129 ]])"
      ]
     },
     "execution_count": 7,
     "metadata": {},
     "output_type": "execute_result"
    }
   ],
   "source": [
    "X"
   ]
  },
  {
   "cell_type": "code",
   "execution_count": 8,
   "id": "eb776194-bdc0-42df-8aac-751bb422bd49",
   "metadata": {},
   "outputs": [
    {
     "data": {
      "text/plain": [
       "(100,)"
      ]
     },
     "execution_count": 8,
     "metadata": {},
     "output_type": "execute_result"
    }
   ],
   "source": [
    "Y.shape"
   ]
  },
  {
   "cell_type": "code",
   "execution_count": 9,
   "id": "e0306956-8e94-4c06-a088-5c7c721ae0b9",
   "metadata": {},
   "outputs": [
    {
     "data": {
      "text/plain": [
       "array([0., 0., 0., 1., 1., 0., 1., 1., 1., 1., 0., 0., 1., 1., 0., 1., 1.,\n",
       "       0., 1., 1., 0., 1., 0., 0., 1., 1., 1., 0., 0., 0., 1., 1., 0., 1.,\n",
       "       0., 0., 0., 1., 0., 0., 1., 0., 1., 0., 0., 0., 1., 1., 1., 1., 1.,\n",
       "       1., 1., 0., 0., 0., 1., 0., 1., 1., 1., 0., 0., 0., 0., 0., 1., 0.,\n",
       "       1., 1., 0., 1., 1., 1., 1., 1., 1., 1., 0., 0., 1., 1., 1., 1., 1.,\n",
       "       1., 0., 1., 1., 0., 1., 1., 0., 1., 1., 1., 1., 1., 1., 1.])"
      ]
     },
     "execution_count": 9,
     "metadata": {},
     "output_type": "execute_result"
    }
   ],
   "source": [
    "Y"
   ]
  },
  {
   "cell_type": "markdown",
   "id": "99a7aa55-1d74-4710-b7be-afce458fa8ce",
   "metadata": {},
   "source": [
    "Vamos visualizar a distribuição das classes em relação as notas dos exames."
   ]
  },
  {
   "cell_type": "code",
   "execution_count": 10,
   "id": "a9b7b110-49c0-4eda-908e-9f5336287921",
   "metadata": {},
   "outputs": [
    {
     "data": {
      "image/png": "[encoded data removed]",
      "text/plain": [
       "<Figure size 640x480 with 1 Axes>"
      ]
     },
     "metadata": {},
     "output_type": "display_data"
    }
   ],
   "source": [
    "aprovados = Y == 1\n",
    "\n",
    "reprovados = Y == 0\n",
    "\n",
    "plt.plot(X[aprovados,0],X[aprovados,1],'+',label=\"aceito\")\n",
    "plt.plot(X[reprovados,0],X[reprovados,1],'o',label=\"não aceito\")\n",
    "plt.xlabel(\"Exame 1\")\n",
    "plt.ylabel(\"Exame 2\")\n",
    "plt.legend(loc=\"upper right\")\n",
    "plt.show()"
   ]
  },
  {
   "cell_type": "markdown",
   "id": "7f65bca9-b14c-4648-8217-d55a3d34af9f",
   "metadata": {},
   "source": [
    "<h2>Desenvolvendo gradiente descendente para Regressão Logística</h2>"
   ]
  },
  {
   "cell_type": "markdown",
   "id": "10b2e908-384a-4f80-b401-66aa8c5fb5bf",
   "metadata": {},
   "source": [
    "A regressão logística realiza uma regressão linear *z* para encontrar um <i>decision boundary</i> e depois aplica a função sigmóide como função de *threshold* para definir uma probabilidade da instância pertencer a uma classe ou outra.\n",
    "\n",
    "Precisaremos desenvolver as seguintes funções:\n",
    "- Função sigmóide\n",
    "- Função para calcular gradientes\n",
    "- Função para executar o método gradiente descendente\n",
    "- Função para calcular o custo do erro de predições\n"
   ]
  },
  {
   "cell_type": "markdown",
   "id": "7c854168-1d07-4f76-b02b-892438a08061",
   "metadata": {},
   "source": [
    "<h3>Função Sigmóide</h3>"
   ]
  },
  {
   "cell_type": "markdown",
   "id": "6f025813-aa1e-4a96-8f01-05e1c55a5b3f",
   "metadata": {},
   "source": [
    "* A função sigmóide é definida como: \n",
    "\n",
    "$$ h(z) = \\frac{1}{1+\\exp^{-z}} \\tag{1}$$\n",
    "\n",
    "Ela mapeia a entrada 'z' para um valor em um intervalo entre 0 e 1, e com isso podemos tratar este valor como uma probabilidade.\n",
    "\n",
    "* A função 'z' para multiplas features é definida como:\n",
    "$$\n",
    "z = f_{\\vec{w},b}(\\vec{x}^{(i)}) = \\vec{w}\\cdot \\vec{x}^{(i)}+b\n",
    "$$\n",
    "\n",
    "* $\\vec{w}$ é um vetor com os parâmetros $w_0$...$w_n$ para as features do nosso dataset\n",
    "\n",
    "* $\\vec{x}^{(i)}$ é um vetor com os valores das features ${x_0}^{(i)}...{x_n}^{(i)}$ para o exemplo 'i' (i-ésimo exemplo do dataset).\n",
    "\n",
    "<b><i>ATENÇÃO!!!!!!!</i></b> $x^{(i)}$ não significa $x$ <b>elevado</b> ao número $i$, mas sim o i-ésimo exemplo do nosso dataset!\n",
    "\n",
    "Lembrando que o que estamos calculando entre $\\vec{w}$ e $\\vec{x_{i}}$ é o produto escalar (dot product) entre os dois vetores, representado por $\\vec{w}\\cdot \\vec{x_{i}}$\n",
    "\n",
    "O produto escalar entre um vetor $w$ e um vetor $x$ é calculado com a seguinte fórmula:\n",
    "$$\n",
    "\\sum_{j=0}^{n-1}w_j \\times {x}_{j}\n",
    "$$\n",
    "Que é equivalente a:\n",
    "$$\n",
    "w_0 \\times {x}_0 + w_1 \\times {x}_1 + w_2 \\times x_2 + ... + w_j \\times {x}_j + ... + w_n \\times {x}_n\n",
    "$$\n",
    "\n",
    "Onde\n",
    "\n",
    "- $n$ é o número de features\n",
    "\n",
    "<b>Dica:</b> Podemos utilizar a função <b>numpy.dot(w,x)</b> para calcular isto de forma vetorizada (em paralelo) e acelerar - e muito - nossos cálculos."
   ]
  },
  {
   "cell_type": "code",
   "execution_count": 11,
   "id": "7dddac55-72eb-4dbc-bb15-380801d31d11",
   "metadata": {},
   "outputs": [],
   "source": [
    "def sigmoide(z): \n",
    "    '''\n",
    "    Parâmetros:\n",
    "    z (escalar) : Pode ser um valor escalar ou um array\n",
    "    Saída:\n",
    "        h: o valor da sigmóide de z\n",
    "    '''\n",
    "    h = None\n",
    "    #### código inicia aqui ####\n",
    "    # calcular sigmóide de z\n",
    "    #dica: utilize a função da biblioteca numpy np.exp() para calcular o exponencial\n",
    "\n",
    "    h = 1/(1+np.exp(-z))\n",
    "\n",
    "    #### código termina aqui ###\n",
    "    \n",
    "    return h"
   ]
  },
  {
   "cell_type": "markdown",
   "id": "2ff815ff-4837-48d6-9189-ee78df586cb2",
   "metadata": {},
   "source": [
    "Você pode testar a função para valores já conhecidos. Por exemplo, sabemos que quando $z = 0$ o valor da sigmóide deve ser $0.5$ (o ponto de inflexão da curva sigmóide).\n"
   ]
  },
  {
   "cell_type": "code",
   "execution_count": 12,
   "id": "74146840-4b50-4281-aa08-807513f4f98c",
   "metadata": {},
   "outputs": [
    {
     "name": "stdout",
     "output_type": "stream",
     "text": [
      "0.5\n"
     ]
    }
   ],
   "source": [
    "print(sigmoide(0))"
   ]
  },
  {
   "cell_type": "markdown",
   "id": "3faba007-d50c-4c02-a42f-800ca77ead11",
   "metadata": {},
   "source": [
    "<h3>Função de custo</h3>"
   ]
  },
  {
   "cell_type": "markdown",
   "id": "8717e130-1d12-47c5-9668-a648dd52eff5",
   "metadata": {},
   "source": [
    "A função de custo utilizada para regressão logística **não** é a mesma que utilizamos na regressão linear. Na regressão logística, para calcular $J(\\vec{w},b)$ utilizamos a entropia-cruzada binária:\n",
    "\n",
    "$$J(\\vec{w},b) = -\\frac{1}{m} \\sum_{i=0}^{m-1} y^{(i)}\\cdot\\log (\\hat{y}^{(i)})) + (1-y^{(i)})\\cdot\\log (1-\\hat{y}^{(i)}))\\tag{5} $$\n",
    "\n",
    "* $m$ é o número de exemplos de treinamento\n",
    "  \n",
    "* $y^{(i)}$ é o valor real do rótulo do exemplo 'i' (o i-éximo exemplo)\n",
    "  \n",
    "* $\\hat{y}^{(i)}$ é a predição do modelo para o exemplo de treinamento 'i' (o i-éximo exemplo)\n",
    "\n",
    "A função de perda (Loss) para um único exemplo de treinamento é:\n",
    "$$ Loss = -1 \\times \\left( y^{(i)}\\cdot\\log (\\hat{y}^{(i)})) + (1-y^{(i)})\\cdot\\log (1-\\hat{y}^{(i)})) \\right)$$\n",
    "\n",
    "* $\\hat{y}$ = sigmoide(z)\n",
    "* Todos valores de $\\hat{y}$ estarão entre 0 e 1. Como o logarítmo de um número menor do que 1 é negativo, aplicamos o fator multiplicativo de -1 para tornar nossa perda positiva.\n",
    "* Quando o modelo prediz 1 ($\\hat{y} = 1$) e o rótulo 'y' também é 1, a função de Loss para esse exemplo de treinamento é 0.\n",
    "* De maneira similar, quando o modelo prediz 0 ($\\hat{y} = 0$) e o rótulo 'y' também é 0, a função de Loss para esse exemplo de treinamento é 0.\n",
    "* Caso a predição do modelo seja perto de 1 (digamos, $\\hat{y} = 0.999$) e o rótulo 'y' seja 0, então o segundo termo da nossa função de loss será $-1 \\times (1 - 0) \\times log(1 - 0.9999) \\approx 9.2$, ou seja, teremos um valor de Loss alto (9.2).\n",
    "* O mesmo vale para o caso em que o modelo prediz um valor perto de zero (por exemplo, $\\hat{y} = 0.0001$) e nosso rótulo 'y' é 1. Neste caso, o nosso primeiro termo na função de loss será $-1 \\times log(0.0001) \\approx 9.2$, ou seja, teremos um valor de Loss alto (9.2)."
   ]
  },
  {
   "cell_type": "markdown",
   "id": "1223e1e7-ec45-4074-8b0f-c1d1e182e8d1",
   "metadata": {},
   "source": [
    "Implemente o código necessário para completar a função de custo $J(\\vec{w},b)$ abaixo."
   ]
  },
  {
   "cell_type": "code",
   "execution_count": 13,
   "id": "5a96689c-5931-428f-95d2-c3209b5d5de8",
   "metadata": {},
   "outputs": [],
   "source": [
    "def funcao_custo(X,Y,W,b):\n",
    "    \"\"\"\n",
    "    Parâmetros:\n",
    "    X (ndarray (m,n)) : Dataset, m exemplos com n features\n",
    "    Y (ndarray (m,))  : valores objetivo para cada exemplo do dataset\n",
    "    W (ndarray (n,))  : parâmetros w do modelo\n",
    "    b (escalar)       : parâmetro b do modelo\n",
    "    \n",
    "    Retorno:\n",
    "    custo_total (escalar): custo total dos parâmetros w e b no dataset X\n",
    "    \"\"\"\n",
    "    custo_total = 0\n",
    "    m,n = X.shape #m = total de exemplos, n = total de features\n",
    "\n",
    "    #código inicia aqui\n",
    "\n",
    "    z = np.dot(X,W) + b\n",
    "    h = sigmoide(z)\n",
    "\n",
    "    custo_total = (-1/m)*np.sum(Y*np.log(h) + (1-Y)*np.log(1-h))\n",
    "\n",
    "                        #não esqueça de utilizar a função np.dot() para cálculo do produto escalar!\n",
    "    \n",
    "    #código termina aqui\n",
    "    return custo_total"
   ]
  },
  {
   "cell_type": "markdown",
   "id": "947cf107-cb60-44f0-8acd-e0fb9bef9206",
   "metadata": {},
   "source": [
    "<h3>Calculando gradiente</h3>"
   ]
  },
  {
   "cell_type": "markdown",
   "id": "82b54635-5633-4976-ab09-4436fb2d2a67",
   "metadata": {},
   "source": [
    "A função gradiente calcula o valor das derivadas da função de custo $J(\\vec{w},b)$ em relação aos parâmetros $\\vec{w}$ e $b$.\n",
    "\n",
    "Quando temos múltiplos parâmetros precisamos calcular individualmente a derivada de cada parâmetro e armazenar todos esses valores em um vetor (o vetor gradiente!)\n",
    "\n",
    "A derivada da função de custo em relação a um parâmetro $w_j$ é: \n",
    "\n",
    "$$\n",
    "1/m\\sum_{i=0}^{m-1} (\\hat{y_{i}} - y_{i})\\times {x_j}^{(i)}\n",
    "$$\n",
    "\n",
    "A derivada da função de custo em relação a **b** é:\n",
    "\n",
    "$$\n",
    "1/m\\sum_{i=0}^{m-1} (\\hat{y_{i}} - y_{i})\n",
    "$$\n",
    "\n",
    "\n",
    "* $m$ é o número de exemplos de treinamento\n",
    "  \n",
    "* ${x_j}^{(i)}$ é o valor da feature $j$ para o exemplo 'i' (o i-éximo exemplo)\n",
    "  \n",
    "* $y^{(i)}$ é o valor real do rótulo do exemplo 'i' (o i-éximo exemplo)\n",
    "  \n",
    "* $\\hat{y}^{(i)}$ é a predição do modelo para o exemplo de treinamento 'i' (o i-éximo exemplo)"
   ]
  },
  {
   "cell_type": "code",
   "execution_count": 14,
   "id": "4c56eca4-d4d9-40a7-b861-165cdb2e5b3a",
   "metadata": {},
   "outputs": [],
   "source": [
    "def gradiente(X,Y,W,b):\n",
    "    \"\"\"\n",
    "    Função para computar o gradiente com parâmetros específicos w e b\n",
    "    Parâmetros:\n",
    "    X (ndarray (m,n)): Dataset, m exemplos com n features\n",
    "    Y (ndarray (m,)) : valores objetivo\n",
    "    W (ndarray (n,)) : vetor de parâmetros w do modelo\n",
    "    b (escalar)      : parâmetro b do modelo\n",
    "\n",
    "    Retorno:\n",
    "    derivada_w (ndarray (n,)): valor da derivada da função de custo em relação a cada parâmetro wj\n",
    "    derivada_b (escalar):      valor da derivada da função de custo em relação a b\n",
    "    \"\"\"\n",
    "\n",
    "    m,n = X.shape #m = total de exemplos, n = total de features\n",
    "    derivadas_w = np.zeros(n) #array de tamanho (n,) inicializado com zeros\n",
    "    derivada_b = 0\n",
    "\n",
    "    #código inicia aqui\n",
    "\n",
    "\n",
    "            #não esqueça de utilizar a função np.dot() para cálculo do produto escalar!\n",
    "    \n",
    "    #código termina aqui\n",
    "\n",
    "    return derivadas_w, derivada_b"
   ]
  },
  {
   "cell_type": "markdown",
   "id": "703e7c49-f068-4f40-ac38-79467c7aa567",
   "metadata": {},
   "source": [
    "<h3>Método do gradiente descendente</h3>"
   ]
  },
  {
   "cell_type": "markdown",
   "id": "465bd0f5-71d0-4b66-bec1-ac47126b345d",
   "metadata": {},
   "source": [
    "O método **gradiente_descendente** minimiza o custo para os parâmetros $\\vec{w}$ e $b$.\n",
    "\n",
    "O gradiente descendente funciona como abaixo.\n",
    "\n",
    "Repetir até convergir:\n",
    "\n",
    "{\n",
    "$$w_0 = w_0 - \\alpha * \\frac{\\partial J}{\\partial w_0}$$\n",
    "$$w_0 = w_1 - \\alpha * \\frac{\\partial J}{\\partial w_1}$$\n",
    "$$.$$\n",
    "$$.$$\n",
    "$$.$$\n",
    "$$w_0 = w_j - \\alpha * \\frac{\\partial J}{\\partial w_j}$$\n",
    "$$b = b - \\alpha * \\frac{\\partial J}{\\partial b}$$\n",
    "}\n",
    "\n",
    "Lembrando que $\\vec{w}$ e $b$ precisam ser atualizados simultaneamente. Ou seja, suas derivadas precisam ser **todas** calculadas antes de atulizar qualquer um deles.\n",
    "\n",
    "**Convergir** significa que nenhum dos parâmetro é atualizado após uma iteração do método, o que significa que já encontramos um mínimo global. Na prática, isto pode demorar muito, por isso temos um novo parâmetro, chamado de ***épocas***, que define um número máximo de iterações para o método, para evitar que fique tentando convergir infinitamente.\n",
    "\n"
   ]
  },
  {
   "cell_type": "code",
   "execution_count": 15,
   "id": "f0abecd9-fa76-410f-ad29-3671ee5b3e3e",
   "metadata": {},
   "outputs": [],
   "source": [
    "def gradiente_descendente(X,Y,W_inicial,b_inicial,learning_rate,epocas):\n",
    "    \"\"\"\n",
    "    Função para encontrar os parâmetros w e b que minimizam o custo de erro do nosso modelo\n",
    "    \n",
    "    Parâmetros:\n",
    "    X (ndarray (m,n))        : Dataset, m exemplos com n features\n",
    "    Y (ndarray (m,))         : valores objetivo\n",
    "    W_inicial (ndarray (n,)) : vetor de parâmetros w para começar o método\n",
    "    b_inicial (escalar)      : parâmetro b inicial para começar o método\n",
    "    learning_rate (escalar)  : taxa de aprendizado do nosso algoritmo (geralmente menor que 0.01)\n",
    "    epocas(escalar)          : numero máximo de iterações para o método do gradiente descente\n",
    "    \n",
    "    Retorno:\n",
    "    W (ndarray (n,))         : vetor com melhores valores encontrados para os parâmetros w\n",
    "    b (escalar)              : melhor valor encontrado para b\n",
    "    histórico_J (list)       : uma lista contendo os valores da função de custo ao longo das épocas\n",
    "    \"\"\"\n",
    "    \n",
    "    m,n = X.shape #m = total de exemplos, n total de features\n",
    "\n",
    "    W = W_inicial\n",
    "    b = b_inicial\n",
    "\n",
    "    historico_J = []    #pode ser interessante calcular o custo a cada X épocas, ao invés de calcular em toda época, por questões de performance\n",
    "    \n",
    "    #código inicia aqui\n",
    "\n",
    "    \n",
    "    #código encerra aqui\n",
    "\n",
    "    return W,b,historico_J"
   ]
  },
  {
   "cell_type": "markdown",
   "id": "2662c3c7-1048-4712-9667-3ac73dc1b8f7",
   "metadata": {},
   "source": [
    "<h2>Treinando e avaliando nosso modelo</h2>"
   ]
  },
  {
   "cell_type": "markdown",
   "id": "4107e303-4f43-4b7c-a7a4-04901b899595",
   "metadata": {},
   "source": [
    "Quando treinamos um modelo, idealmente desejamos que ele tenha boa performance em dados que ele não utilizou durante o treinamento.\n",
    "Como dados não caem do céu, em geral o que fazemos é dividir nosso conjunto de treinamento em duas partes, uma para ser utilizada no treinamento (o conjunto de treinamento de fato) e outra para ser utilizada para avaliar o modelo (o conjunto de testes).\n",
    "\n",
    "Durante o treinamento o algoritmo não deve utilizar **nenhum** dado de teste. Só assim poderemos ter certeza de que nosso modelo performa bem em dados que ele não conhece."
   ]
  },
  {
   "cell_type": "markdown",
   "id": "121cb037-3223-43c5-8e28-02e384c96e93",
   "metadata": {},
   "source": [
    "<h3>Treinando o modelo</h3>"
   ]
  },
  {
   "cell_type": "markdown",
   "id": "29ac9f00-fd87-4de0-8be1-7346c1089f28",
   "metadata": {},
   "source": [
    "Inicialmente, vamos dividir nosso dataset em dois conjunto, um para treinamento, outro para teste.\n",
    "\n",
    "Faremos isto de maneira ingênua, assumindo que nosso dataset já está distribuído de forma aleatória.\n",
    "\n",
    "Utilizaremos 80% do dataset para treinamento, 20% para testes."
   ]
  },
  {
   "cell_type": "code",
   "execution_count": 16,
   "id": "36d64402-2636-4308-a32e-395db5e48ca3",
   "metadata": {},
   "outputs": [
    {
     "name": "stdout",
     "output_type": "stream",
     "text": [
      "(80, 2)\n",
      "(20, 2)\n"
     ]
    }
   ],
   "source": [
    "m = X.shape[0] #tamanho do dataset\n",
    "\n",
    "tamanho_treino = int(m*0.8)\n",
    "\n",
    "X_treino = X[0:tamanho_treino]\n",
    "Y_treino = Y[0:tamanho_treino]\n",
    "\n",
    "X_teste = X[tamanho_treino:m]\n",
    "Y_teste = Y[tamanho_treino:m]\n",
    "\n",
    "print(X_treino.shape)\n",
    "print(X_teste.shape)"
   ]
  },
  {
   "cell_type": "markdown",
   "id": "cc5f7723-62b4-4808-9b36-06dbe8a142f3",
   "metadata": {},
   "source": [
    "Abaixo, alguns valores para iniciarmos o treinamento."
   ]
  },
  {
   "cell_type": "code",
   "execution_count": 17,
   "id": "7195a485-e062-4fb7-8e95-791427e3ed16",
   "metadata": {},
   "outputs": [
    {
     "name": "stdout",
     "output_type": "stream",
     "text": [
      "Os parâmetros W resultantes do treinamento são: [0. 0.]\n",
      "O parâmetro b resultante do treinamento é: 0\n",
      "O custo para o conjunto de treinamento é 0.69314718.\n"
     ]
    }
   ],
   "source": [
    "learning_rate = 0.0001\n",
    "epocas = 500\n",
    "W_inicial = np.zeros(X.shape[1])\n",
    "b_inicial = 0\n",
    "\n",
    "W, b, historico_J = gradiente_descendente(X_treino, Y_treino, W_inicial, b_inicial, learning_rate, epocas)\n",
    "\n",
    "print(f\"Os parâmetros W resultantes do treinamento são: {W}\")\n",
    "print(f\"O parâmetro b resultante do treinamento é: {b}\")\n",
    "print(f\"O custo para o conjunto de treinamento é {funcao_custo(X_treino, Y_treino, W, b):.8f}.\")\n"
   ]
  },
  {
   "cell_type": "markdown",
   "id": "07343d90-e4c6-41be-a773-df08f81a589f",
   "metadata": {},
   "source": [
    "Vamos analisar se o modelo convergiu, observando a curva do custo de treinamento vs tempo de treinamento (iterações)."
   ]
  },
  {
   "cell_type": "code",
   "execution_count": 18,
   "id": "89f748f9-8fcf-40be-a9d4-c7b88ab19f80",
   "metadata": {},
   "outputs": [
    {
     "data": {
      "text/plain": [
       "[<matplotlib.lines.Line2D at 0x29f78538190>]"
      ]
     },
     "execution_count": 18,
     "metadata": {},
     "output_type": "execute_result"
    },
    {
     "data": {
      "image/png": "[encoded data removed]",
      "text/plain": [
       "<Figure size 640x480 with 1 Axes>"
      ]
     },
     "metadata": {},
     "output_type": "display_data"
    }
   ],
   "source": [
    "plt.xlabel(\"Custo\")\n",
    "plt.ylabel(\"Tempo de treinamento\")\n",
    "plt.plot(historico_J)"
   ]
  },
  {
   "cell_type": "markdown",
   "id": "11d8055e-8543-4ce3-b77a-8867d7363cbd",
   "metadata": {},
   "source": [
    "<h3>Testando o modelo</h3>"
   ]
  },
  {
   "cell_type": "markdown",
   "id": "7ffc4764-9976-48e2-a000-10d88195d97f",
   "metadata": {},
   "source": [
    "Vamos testar a capacidade do nosso modelo predizer corretamente se um aluno é aceito na universidade ou não.\n",
    "\n",
    "Primeiro, desenvolva uma função para predição que irá calcular a probabilidade do aluno ser aceito (utilizando a sigmóide)."
   ]
  },
  {
   "cell_type": "code",
   "execution_count": 19,
   "id": "40698f1d-5e5f-4e5a-b699-ac981ea8695c",
   "metadata": {},
   "outputs": [],
   "source": [
    "def predizer_aluno(aluno, W, b):\n",
    "    '''\n",
    "    entrada: \n",
    "        aluno (1darray (2,)) : contendo notas para os dois exames realizados pelo aluno\n",
    "        W(ndarray (n,))      : vetor de parâmetros w para começar o método\n",
    "        b(escalar)           : parâmetro b inicial para começar o método\n",
    "    saída: \n",
    "        y_pred: a probabilidade de um aluno ser admitido na universade\n",
    "    '''\n",
    "\n",
    "    ### código inicia aqui ###\n",
    "\n",
    "    # utilize a função sigmóide para realizar a predição\n",
    "    # não esqueça de calcular z para passar como parametro para a função sigmoide\n",
    "    y_pred = None\n",
    "    \n",
    "    ### código termina aqui ###\n",
    "    \n",
    "    return y_pred"
   ]
  },
  {
   "cell_type": "markdown",
   "id": "50a0ba50-d9ee-481c-88d7-d852190ade14",
   "metadata": {},
   "source": [
    "Vamos ver algumas probabilidades calculadas pelo modelo."
   ]
  },
  {
   "cell_type": "code",
   "execution_count": 20,
   "id": "dc9fac88-d357-44fc-a4d9-655050cf8cf5",
   "metadata": {},
   "outputs": [
    {
     "name": "stdout",
     "output_type": "stream",
     "text": [
      "Aluno com notas 100.0 e 100.0 tem uma chance de None ser aceito na universidade.\n",
      "Aluno com notas 85.0 e 70.0 tem uma chance de None ser aceito na universidade.\n",
      "Aluno com notas 2.0 e 10.0 tem uma chance de None ser aceito na universidade.\n",
      "Aluno com notas 70.0 e 85.0 tem uma chance de None ser aceito na universidade.\n",
      "Aluno com notas 90.0 e 30.0 tem uma chance de None ser aceito na universidade.\n",
      "Aluno com notas 0.0 e 0.0 tem uma chance de None ser aceito na universidade.\n"
     ]
    }
   ],
   "source": [
    "alunos = np.array([[100.,100.],[85.,70.],[2.,10.],[70.,85.],[90.,30.],[0,0]])\n",
    "\n",
    "for aluno in alunos:\n",
    "    print(f\"Aluno com notas {aluno[0]} e {aluno[1]} tem uma chance de {predizer_aluno(aluno, W, b)} ser aceito na universidade.\")"
   ]
  },
  {
   "cell_type": "markdown",
   "id": "92a03e02-955f-4ae2-89da-07e485039b13",
   "metadata": {},
   "source": [
    "Agora, vamos avaliar a performance de predição nosso modelo utilizando uma métrica apropriada.\n",
    "\n",
    "Para o caso da predição do valor de uma casa, utilizamos uma métrica de diferença do erro quadrado, pois dificilmente nosso valor predito seria exatamente igual ao valor objetivo.\n",
    "\n",
    "Já para o caso de uma classificação binária, apesar da sigmóide nos entregar uma *probabilidade* de um exemplo pertecer a uma classe, na prática definimos um valor de corte para atribuir um exeplo a uma classe ou outra. Ou seja, a predição só pode ou acertar exatamente a classe ou errar completamente a classe do exemplo.\n",
    "\n",
    "Neste caso, faz mais sentido utilizarmos uma métrica de acurácia. A acurácia em nosso caso é a taxa de acertos média do modelo (se o modelo acertou que o estudante seria admitido na universidade ou não).\n",
    "\n",
    "Seja:\n",
    "\n",
    "* True Positives : número total de predições de que o aluno seria admitido e de fato foi\n",
    "* True Negatives : número total de predições de que o aluno **não** seria admitido e de fato não foi\n",
    "* Positives : número total de exemplos em que o aluno foi admitido\n",
    "* Negatives : número total de exemplos em que o aluno **não foi** admitido\n",
    "\n",
    "Calculamos a acurárica da seguinte forma:\n",
    "\n",
    "$$\n",
    "    \\frac{True Positives + True Negatives}{Positives + Negatives}\n",
    "$$\n",
    "\n",
    "A função abaixo testa a acurácia do nosso modelo de regressão dado um conjunto de dados e parâmetros:"
   ]
  },
  {
   "cell_type": "code",
   "execution_count": 21,
   "id": "82d80ed6-271e-445b-bb27-b583f1fced05",
   "metadata": {},
   "outputs": [],
   "source": [
    "def teste_de_regressao_logistica(X, Y, W, b):\n",
    "    \"\"\"\n",
    "    entrada: \n",
    "        X (ndarray (m,n)): Dataset, m exemplos com n features\n",
    "        Y (ndarray (m,)) : valores objetivo\n",
    "        W (ndarray (n,)) : vetor de parâmetros w do modelo\n",
    "        b (escalar)  \n",
    "    saída \n",
    "        acurácia: (número de alunos classificados corretamente / número total de alunos)\n",
    "    \"\"\"\n",
    "\n",
    "    m = X.shape[0] #numero total de alunos\n",
    "    y_hat = []\n",
    "    \n",
    "    for i in range(m):\n",
    "        y_pred = predizer_aluno(X[i], W, b)\n",
    "        \n",
    "        if y_pred > 0.6:\n",
    "            # se a probabilidade for acima de 0.6, vamos considerar como admitido\n",
    "            y_hat.append(1.0)\n",
    "        else:\n",
    "            # aluno não foi admitido\n",
    "            y_hat.append(0.0)\n",
    "\n",
    "    # Convertendo lista para array\n",
    "    y_hat = np.array(y_hat)\n",
    "\n",
    "    #y_hat==Y compara para cada elemento se são iguais e devolve\n",
    "    #um array contendo True caso o teste seja igual e False caso contrário\n",
    "    #True é representando pelo python pelo número um, então podemos\n",
    "    #utlizar a função np.sum para somar todos valores do array\n",
    "    #o que nos entregará o total de True Positives + True Negatives\n",
    "    acuracia = (np.sum(y_hat==Y))/m\n",
    "    \n",
    "    return acuracia"
   ]
  },
  {
   "cell_type": "markdown",
   "id": "584abc02-6ee4-47f5-bb0d-999a11288664",
   "metadata": {},
   "source": [
    "Primeiro vamos avaliar a acurária em nosso conjunto de treinamento:"
   ]
  },
  {
   "cell_type": "code",
   "execution_count": 22,
   "id": "e9820794-c3c5-44cf-9631-912e112df734",
   "metadata": {},
   "outputs": [
    {
     "ename": "TypeError",
     "evalue": "'>' not supported between instances of 'NoneType' and 'float'",
     "output_type": "error",
     "traceback": [
      "\u001b[1;31m---------------------------------------------------------------------------\u001b[0m",
      "\u001b[1;31mTypeError\u001b[0m                                 Traceback (most recent call last)",
      "Cell \u001b[1;32mIn[22], line 1\u001b[0m\n\u001b[1;32m----> 1\u001b[0m \u001b[39mprint\u001b[39m(teste_de_regressao_logistica(X_treino, Y_treino, W, b))\n",
      "Cell \u001b[1;32mIn[21], line 18\u001b[0m, in \u001b[0;36mteste_de_regressao_logistica\u001b[1;34m(X, Y, W, b)\u001b[0m\n\u001b[0;32m     15\u001b[0m \u001b[39mfor\u001b[39;00m i \u001b[39min\u001b[39;00m \u001b[39mrange\u001b[39m(m):\n\u001b[0;32m     16\u001b[0m     y_pred \u001b[39m=\u001b[39m predizer_aluno(X[i], W, b)\n\u001b[1;32m---> 18\u001b[0m     \u001b[39mif\u001b[39;00m y_pred \u001b[39m>\u001b[39;49m \u001b[39m0.6\u001b[39;49m:\n\u001b[0;32m     19\u001b[0m         \u001b[39m# se a probabilidade for acima de 0.6, vamos considerar como admitido\u001b[39;00m\n\u001b[0;32m     20\u001b[0m         y_hat\u001b[39m.\u001b[39mappend(\u001b[39m1.0\u001b[39m)\n\u001b[0;32m     21\u001b[0m     \u001b[39melse\u001b[39;00m:\n\u001b[0;32m     22\u001b[0m         \u001b[39m# aluno não foi admitido\u001b[39;00m\n",
      "\u001b[1;31mTypeError\u001b[0m: '>' not supported between instances of 'NoneType' and 'float'"
     ]
    }
   ],
   "source": [
    "print(teste_de_regressao_logistica(X_treino, Y_treino, W, b))"
   ]
  },
  {
   "cell_type": "markdown",
   "id": "1d72321e-c943-4016-936a-29538863579b",
   "metadata": {},
   "source": [
    "E agora vamos avaliar a acurácia em nosso conjunto de testes:"
   ]
  },
  {
   "cell_type": "code",
   "execution_count": null,
   "id": "84810de3-2c4c-4cf7-bdbf-2c0a1693ee41",
   "metadata": {},
   "outputs": [],
   "source": [
    "print(teste_de_regressao_logistica(X_teste, Y_teste, W, b))"
   ]
  }
 ],
 "metadata": {
  "kernelspec": {
   "display_name": "Python 3 (ipykernel)",
   "language": "python",
   "name": "python3"
  },
  "language_info": {
   "codemirror_mode": {
    "name": "ipython",
    "version": 3
   },
   "file_extension": ".py",
   "mimetype": "text/x-python",
   "name": "python",
   "nbconvert_exporter": "python",
   "pygments_lexer": "ipython3",
   "version": "3.11.3"
  }
 },
 "nbformat": 4,
 "nbformat_minor": 5
}
